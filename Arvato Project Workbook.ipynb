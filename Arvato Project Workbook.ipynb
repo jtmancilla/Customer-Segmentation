{
 "cells": [
  {
   "cell_type": "markdown",
   "metadata": {},
   "source": [
    "# Capstone Project: Create a Customer Segmentation Report for Arvato Financial Services\n",
    "\n",
    "In this project, you will analyze demographics data for customers of a mail-order sales company in Germany, comparing it against demographics information for the general population. You'll use unsupervised learning techniques to perform customer segmentation, identifying the parts of the population that best describe the core customer base of the company. Then, you'll apply what you've learned on a third dataset with demographics information for targets of a marketing campaign for the company, and use a model to predict which individuals are most likely to convert into becoming customers for the company. The data that you will use has been provided by our partners at Bertelsmann Arvato Analytics, and represents a real-life data science task.\n",
    "\n",
    "If you completed the first term of this program, you will be familiar with the first part of this project, from the unsupervised learning project. The versions of those two datasets used in this project will include many more features and has not been pre-cleaned. You are also free to choose whatever approach you'd like to analyzing the data rather than follow pre-determined steps. In your work on this project, make sure that you carefully document your steps and decisions, since your main deliverable for this project will be a blog post reporting your findings."
   ]
  },
  {
   "cell_type": "code",
   "execution_count": 111,
   "metadata": {},
   "outputs": [],
   "source": [
    "# import libraries here; add more as necessary\n",
    "import numpy as np\n",
    "import pandas as pd\n",
    "import matplotlib.pyplot as plt\n",
    "import seaborn as sns\n",
    "\n",
    "# magic word for producing visualizations in notebook\n",
    "%matplotlib inline"
   ]
  },
  {
   "cell_type": "markdown",
   "metadata": {},
   "source": [
    "## Part 0: Get to Know the Data\n",
    "\n",
    "There are four data files associated with this project:\n",
    "\n",
    "- `Udacity_AZDIAS_052018.csv`: Demographics data for the general population of Germany; 891 211 persons (rows) x 366 features (columns).\n",
    "- `Udacity_CUSTOMERS_052018.csv`: Demographics data for customers of a mail-order company; 191 652 persons (rows) x 369 features (columns).\n",
    "- `Udacity_MAILOUT_052018_TRAIN.csv`: Demographics data for individuals who were targets of a marketing campaign; 42 982 persons (rows) x 367 (columns).\n",
    "- `Udacity_MAILOUT_052018_TEST.csv`: Demographics data for individuals who were targets of a marketing campaign; 42 833 persons (rows) x 366 (columns).\n",
    "\n",
    "Each row of the demographics files represents a single person, but also includes information outside of individuals, including information about their household, building, and neighborhood. Use the information from the first two files to figure out how customers (\"CUSTOMERS\") are similar to or differ from the general population at large (\"AZDIAS\"), then use your analysis to make predictions on the other two files (\"MAILOUT\"), predicting which recipients are most likely to become a customer for the mail-order company.\n",
    "\n",
    "The \"CUSTOMERS\" file contains three extra columns ('CUSTOMER_GROUP', 'ONLINE_PURCHASE', and 'PRODUCT_GROUP'), which provide broad information about the customers depicted in the file. The original \"MAILOUT\" file included one additional column, \"RESPONSE\", which indicated whether or not each recipient became a customer of the company. For the \"TRAIN\" subset, this column has been retained, but in the \"TEST\" subset it has been removed; it is against that withheld column that your final predictions will be assessed in the Kaggle competition.\n",
    "\n",
    "Otherwise, all of the remaining columns are the same between the three data files. For more information about the columns depicted in the files, you can refer to two Excel spreadsheets provided in the workspace. [One of them](./DIAS Information Levels - Attributes 2017.xlsx) is a top-level list of attributes and descriptions, organized by informational category. [The other](./DIAS Attributes - Values 2017.xlsx) is a detailed mapping of data values for each feature in alphabetical order.\n",
    "\n",
    "In the below cell, we've provided some initial code to load in the first two datasets. Note for all of the `.csv` data files in this project that they're semicolon (`;`) delimited, so an additional argument in the [`read_csv()`](https://pandas.pydata.org/pandas-docs/stable/generated/pandas.read_csv.html) call has been included to read in the data properly. Also, considering the size of the datasets, it may take some time for them to load completely.\n",
    "\n",
    "You'll notice when the data is loaded in that a warning message will immediately pop up. Before you really start digging into the modeling and analysis, you're going to need to perform some cleaning. Take some time to browse the structure of the data and look over the informational spreadsheets to understand the data values. Make some decisions on which features to keep, which features to drop, and if any revisions need to be made on data formats. It'll be a good idea to create a function with pre-processing steps, since you'll need to clean all of the datasets before you work with them."
   ]
  },
  {
   "cell_type": "code",
   "execution_count": 286,
   "metadata": {},
   "outputs": [
    {
     "name": "stderr",
     "output_type": "stream",
     "text": [
      "/Users/maurizio/anaconda3/lib/python3.6/site-packages/IPython/core/interactiveshell.py:2785: DtypeWarning: Columns (18,19) have mixed types. Specify dtype option on import or set low_memory=False.\n",
      "  interactivity=interactivity, compiler=compiler, result=result)\n"
     ]
    }
   ],
   "source": [
    "# load in the data\n",
    "#azdias = pd.read_csv('../../data/Term2/capstone/arvato_data/Udacity_AZDIAS_052018.csv', sep=';')\n",
    "#customers = pd.read_csv('../../data/Term2/capstone/arvato_data/Udacity_CUSTOMERS_052018.csv', sep=';')\n",
    "azdias = pd.read_csv('arvato_data/Udacity_AZDIAS_052018.csv', sep=';')\n",
    "#customers = pd.read_csv('arvato_data/Udacity_CUSTOMERS_052018.csv', sep=';')"
   ]
  },
  {
   "cell_type": "markdown",
   "metadata": {},
   "source": [
    "Looks we had some trouble while importing already with some features that have mixed types values"
   ]
  },
  {
   "cell_type": "code",
   "execution_count": 244,
   "metadata": {},
   "outputs": [
    {
     "data": {
      "text/html": [
       "<div>\n",
       "<style scoped>\n",
       "    .dataframe tbody tr th:only-of-type {\n",
       "        vertical-align: middle;\n",
       "    }\n",
       "\n",
       "    .dataframe tbody tr th {\n",
       "        vertical-align: top;\n",
       "    }\n",
       "\n",
       "    .dataframe thead th {\n",
       "        text-align: right;\n",
       "    }\n",
       "</style>\n",
       "<table border=\"1\" class=\"dataframe\">\n",
       "  <thead>\n",
       "    <tr style=\"text-align: right;\">\n",
       "      <th></th>\n",
       "      <th>CAMEO_DEUG_2015</th>\n",
       "      <th>CAMEO_INTL_2015</th>\n",
       "    </tr>\n",
       "  </thead>\n",
       "  <tbody>\n",
       "    <tr>\n",
       "      <th>0</th>\n",
       "      <td>NaN</td>\n",
       "      <td>NaN</td>\n",
       "    </tr>\n",
       "    <tr>\n",
       "      <th>1</th>\n",
       "      <td>8</td>\n",
       "      <td>51</td>\n",
       "    </tr>\n",
       "    <tr>\n",
       "      <th>2</th>\n",
       "      <td>4</td>\n",
       "      <td>24</td>\n",
       "    </tr>\n",
       "    <tr>\n",
       "      <th>3</th>\n",
       "      <td>2</td>\n",
       "      <td>12</td>\n",
       "    </tr>\n",
       "    <tr>\n",
       "      <th>4</th>\n",
       "      <td>6</td>\n",
       "      <td>43</td>\n",
       "    </tr>\n",
       "  </tbody>\n",
       "</table>\n",
       "</div>"
      ],
      "text/plain": [
       "  CAMEO_DEUG_2015 CAMEO_INTL_2015\n",
       "0             NaN             NaN\n",
       "1               8              51\n",
       "2               4              24\n",
       "3               2              12\n",
       "4               6              43"
      ]
     },
     "execution_count": 244,
     "metadata": {},
     "output_type": "execute_result"
    }
   ],
   "source": [
    "# These two featutres have mixed type float and string\n",
    "azdias.iloc[:,18:20].head()"
   ]
  },
  {
   "cell_type": "code",
   "execution_count": 246,
   "metadata": {},
   "outputs": [
    {
     "data": {
      "text/plain": [
       "8      78023\n",
       "9      62578\n",
       "6      61253\n",
       "4      60185\n",
       "8.0    56418\n",
       "3      50360\n",
       "2      48276\n",
       "9.0    45599\n",
       "7      45021\n",
       "6.0    44621\n",
       "4.0    43727\n",
       "3.0    36419\n",
       "2.0    34955\n",
       "7.0    32912\n",
       "5      32292\n",
       "5.0    23018\n",
       "1      20997\n",
       "1.0    15215\n",
       "X        373\n",
       "Name: CAMEO_DEUG_2015, dtype: int64"
      ]
     },
     "execution_count": 246,
     "metadata": {},
     "output_type": "execute_result"
    }
   ],
   "source": [
    "azdias.CAMEO_DEUG_2015.value_counts()"
   ]
  },
  {
   "cell_type": "code",
   "execution_count": 114,
   "metadata": {},
   "outputs": [
    {
     "data": {
      "text/plain": [
       "8      78023\n",
       "9      62578\n",
       "6      61253\n",
       "4      60185\n",
       "8.0    56418\n",
       "3      50360\n",
       "2      48276\n",
       "9.0    45599\n",
       "7      45021\n",
       "6.0    44621\n",
       "4.0    43727\n",
       "3.0    36419\n",
       "2.0    34955\n",
       "7.0    32912\n",
       "5      32292\n",
       "5.0    23018\n",
       "1      20997\n",
       "1.0    15215\n",
       "X        373\n",
       "Name: CAMEO_DEUG_2015, dtype: int64"
      ]
     },
     "execution_count": 114,
     "metadata": {},
     "output_type": "execute_result"
    }
   ],
   "source": [
    "azdias.CAMEO_DEUG_2015.value_counts()"
   ]
  },
  {
   "cell_type": "code",
   "execution_count": 115,
   "metadata": {},
   "outputs": [
    {
     "data": {
      "text/plain": [
       "51      77576\n",
       "51.0    56118\n",
       "41      53459\n",
       "24      52882\n",
       "41.0    38877\n",
       "24.0    38276\n",
       "14      36524\n",
       "43      32730\n",
       "14.0    26360\n",
       "54      26207\n",
       "43.0    23942\n",
       "25      22837\n",
       "54.0    19184\n",
       "22      19173\n",
       "25.0    16791\n",
       "23      15653\n",
       "13      15272\n",
       "45      15206\n",
       "22.0    13982\n",
       "55      13842\n",
       "52      11836\n",
       "23.0    11097\n",
       "13.0    11064\n",
       "31      11041\n",
       "45.0    10926\n",
       "34      10737\n",
       "55.0    10113\n",
       "15       9832\n",
       "52.0     8706\n",
       "44       8543\n",
       "31.0     7983\n",
       "34.0     7787\n",
       "12       7645\n",
       "15.0     7142\n",
       "44.0     6277\n",
       "35       6090\n",
       "32       6067\n",
       "33       5833\n",
       "12.0     5604\n",
       "32.0     4287\n",
       "35.0     4266\n",
       "33.0     4102\n",
       "XX        373\n",
       "Name: CAMEO_INTL_2015, dtype: int64"
      ]
     },
     "execution_count": 115,
     "metadata": {},
     "output_type": "execute_result"
    }
   ],
   "source": [
    "azdias.CAMEO_INTL_2015.value_counts()"
   ]
  },
  {
   "cell_type": "markdown",
   "metadata": {},
   "source": [
    "This shows a problem with this table where there are same values that are different because of the type either int or fload"
   ]
  },
  {
   "cell_type": "markdown",
   "metadata": {},
   "source": [
    "So the values X and XX in these two tables are to be considered \"unknown\" and converted to null. So in our initial cleaning we will check the values of the documented features against the documentation ( the \"DIAS Attributes - Values 2017.xlsx\" file) and consider the ones that fall outside the reanges priveded as null.\n"
   ]
  },
  {
   "cell_type": "code",
   "execution_count": 287,
   "metadata": {},
   "outputs": [
    {
     "data": {
      "text/html": [
       "<div>\n",
       "<style scoped>\n",
       "    .dataframe tbody tr th:only-of-type {\n",
       "        vertical-align: middle;\n",
       "    }\n",
       "\n",
       "    .dataframe tbody tr th {\n",
       "        vertical-align: top;\n",
       "    }\n",
       "\n",
       "    .dataframe thead th {\n",
       "        text-align: right;\n",
       "    }\n",
       "</style>\n",
       "<table border=\"1\" class=\"dataframe\">\n",
       "  <thead>\n",
       "    <tr style=\"text-align: right;\">\n",
       "      <th></th>\n",
       "      <th>Attribute</th>\n",
       "      <th>Description</th>\n",
       "      <th>Value</th>\n",
       "      <th>Meaning</th>\n",
       "    </tr>\n",
       "  </thead>\n",
       "  <tbody>\n",
       "    <tr>\n",
       "      <th>51</th>\n",
       "      <td>CAMEO_DEUG_2015</td>\n",
       "      <td>CAMEO classification 2015 - Uppergroup</td>\n",
       "      <td>-1</td>\n",
       "      <td>unknown</td>\n",
       "    </tr>\n",
       "    <tr>\n",
       "      <th>52</th>\n",
       "      <td>CAMEO_DEUG_2015</td>\n",
       "      <td>CAMEO classification 2015 - Uppergroup</td>\n",
       "      <td>1</td>\n",
       "      <td>upper class</td>\n",
       "    </tr>\n",
       "    <tr>\n",
       "      <th>53</th>\n",
       "      <td>CAMEO_DEUG_2015</td>\n",
       "      <td>CAMEO classification 2015 - Uppergroup</td>\n",
       "      <td>2</td>\n",
       "      <td>upper middleclass</td>\n",
       "    </tr>\n",
       "    <tr>\n",
       "      <th>54</th>\n",
       "      <td>CAMEO_DEUG_2015</td>\n",
       "      <td>CAMEO classification 2015 - Uppergroup</td>\n",
       "      <td>3</td>\n",
       "      <td>established middleclasse</td>\n",
       "    </tr>\n",
       "    <tr>\n",
       "      <th>55</th>\n",
       "      <td>CAMEO_DEUG_2015</td>\n",
       "      <td>CAMEO classification 2015 - Uppergroup</td>\n",
       "      <td>4</td>\n",
       "      <td>consumption-oriented middleclass</td>\n",
       "    </tr>\n",
       "    <tr>\n",
       "      <th>56</th>\n",
       "      <td>CAMEO_DEUG_2015</td>\n",
       "      <td>CAMEO classification 2015 - Uppergroup</td>\n",
       "      <td>5</td>\n",
       "      <td>active middleclass</td>\n",
       "    </tr>\n",
       "    <tr>\n",
       "      <th>57</th>\n",
       "      <td>CAMEO_DEUG_2015</td>\n",
       "      <td>CAMEO classification 2015 - Uppergroup</td>\n",
       "      <td>6</td>\n",
       "      <td>low-consumption middleclass</td>\n",
       "    </tr>\n",
       "    <tr>\n",
       "      <th>58</th>\n",
       "      <td>CAMEO_DEUG_2015</td>\n",
       "      <td>CAMEO classification 2015 - Uppergroup</td>\n",
       "      <td>7</td>\n",
       "      <td>lower middleclass</td>\n",
       "    </tr>\n",
       "    <tr>\n",
       "      <th>59</th>\n",
       "      <td>CAMEO_DEUG_2015</td>\n",
       "      <td>CAMEO classification 2015 - Uppergroup</td>\n",
       "      <td>8</td>\n",
       "      <td>working class</td>\n",
       "    </tr>\n",
       "    <tr>\n",
       "      <th>60</th>\n",
       "      <td>CAMEO_DEUG_2015</td>\n",
       "      <td>CAMEO classification 2015 - Uppergroup</td>\n",
       "      <td>9</td>\n",
       "      <td>urban working class</td>\n",
       "    </tr>\n",
       "  </tbody>\n",
       "</table>\n",
       "</div>"
      ],
      "text/plain": [
       "          Attribute                             Description Value  \\\n",
       "51  CAMEO_DEUG_2015  CAMEO classification 2015 - Uppergroup    -1   \n",
       "52  CAMEO_DEUG_2015  CAMEO classification 2015 - Uppergroup     1   \n",
       "53  CAMEO_DEUG_2015  CAMEO classification 2015 - Uppergroup     2   \n",
       "54  CAMEO_DEUG_2015  CAMEO classification 2015 - Uppergroup     3   \n",
       "55  CAMEO_DEUG_2015  CAMEO classification 2015 - Uppergroup     4   \n",
       "56  CAMEO_DEUG_2015  CAMEO classification 2015 - Uppergroup     5   \n",
       "57  CAMEO_DEUG_2015  CAMEO classification 2015 - Uppergroup     6   \n",
       "58  CAMEO_DEUG_2015  CAMEO classification 2015 - Uppergroup     7   \n",
       "59  CAMEO_DEUG_2015  CAMEO classification 2015 - Uppergroup     8   \n",
       "60  CAMEO_DEUG_2015  CAMEO classification 2015 - Uppergroup     9   \n",
       "\n",
       "                              Meaning  \n",
       "51                            unknown  \n",
       "52                        upper class  \n",
       "53                  upper middleclass  \n",
       "54           established middleclasse  \n",
       "55  consumption-oriented middleclass   \n",
       "56                active middleclass   \n",
       "57        low-consumption middleclass  \n",
       "58                  lower middleclass  \n",
       "59                      working class  \n",
       "60                urban working class  "
      ]
     },
     "execution_count": 287,
     "metadata": {},
     "output_type": "execute_result"
    }
   ],
   "source": [
    "# Reading the features description excel file into a Dataframe\n",
    "feat_info = pd.read_excel('DIAS Attributes - Values 2017.xlsx', sheet_name='Tabelle1', index_col=[0, 1, 2]).reset_index()\n",
    "feat_info.drop('level_0', axis=1, inplace=True)\n",
    "feat_info_levels = pd.read_excel('DIAS Information Levels - Attributes 2017.xlsx', index_col=[0, 1]).reset_index()\n",
    "feat_info_levels.drop('level_0', axis=1, inplace=True) \n",
    "\n",
    "feat_info_levels.head()\n",
    "feat_info[feat_info.Attribute=='CAMEO_DEUG_2015']"
   ]
  },
  {
   "cell_type": "code",
   "execution_count": 288,
   "metadata": {},
   "outputs": [
    {
     "data": {
      "text/plain": [
       "(270, 96, 42)"
      ]
     },
     "execution_count": 288,
     "metadata": {},
     "output_type": "execute_result"
    }
   ],
   "source": [
    "# Turns out the feat_info dataset from the Excel spreadsheet has some columns that are not in the population dataset\n",
    "# and vicecersa, Let's explore a bit\n",
    "# These one are in the population and are described in the spreadsheet\n",
    "attributes_we_have_info_about = np.intersect1d(feat_info.Attribute.unique(), np.array(azdias.columns))\n",
    "# These one are in the population and are NOT described in the spreadsheet\n",
    "attributes_we_dont_have_info = np.setdiff1d(np.array(azdias.columns), feat_info.Attribute.unique())\n",
    "# These one are in the spreadsheet and are NOT in the population so we just ignore them for now\n",
    "attributes_we_dont_care = np.setdiff1d(feat_info.Attribute.unique(), np.array(azdias.columns))\n",
    "\n",
    "len(attributes_we_have_info_about), len(attributes_we_dont_have_info), len(attributes_we_dont_care)"
   ]
  },
  {
   "cell_type": "code",
   "execution_count": 365,
   "metadata": {},
   "outputs": [
    {
     "name": "stdout",
     "output_type": "stream",
     "text": [
      "312\n"
     ]
    },
    {
     "data": {
      "text/plain": [
       "array(['AKT_DAT_KL', 'ALTERSKATEGORIE_FEIN', 'ALTER_KIND1', 'ALTER_KIND2',\n",
       "       'ALTER_KIND3', 'ALTER_KIND4', 'ANZ_KINDER',\n",
       "       'ANZ_STATISTISCHE_HAUSHALTE', 'ARBEIT', 'CAMEO_INTL_2015',\n",
       "       'CJT_KATALOGNUTZER', 'CJT_TYP_1', 'CJT_TYP_2', 'CJT_TYP_3',\n",
       "       'CJT_TYP_4', 'CJT_TYP_5', 'CJT_TYP_6', 'D19_BANKEN_DIREKT',\n",
       "       'D19_BANKEN_GROSS', 'D19_BANKEN_LOKAL', 'D19_BANKEN_REST',\n",
       "       'D19_BEKLEIDUNG_GEH', 'D19_BEKLEIDUNG_REST', 'D19_BILDUNG',\n",
       "       'D19_BIO_OEKO', 'D19_BUCH_CD', 'D19_DIGIT_SERV',\n",
       "       'D19_DROGERIEARTIKEL', 'D19_ENERGIE', 'D19_FREIZEIT', 'D19_GARTEN',\n",
       "       'D19_HANDWERK', 'D19_HAUS_DEKO', 'D19_KINDERARTIKEL',\n",
       "       'D19_KONSUMTYP', 'D19_KONSUMTYP_MAX', 'D19_KOSMETIK',\n",
       "       'D19_LEBENSMITTEL', 'D19_LETZTER_KAUF_BRANCHE', 'D19_LOTTO',\n",
       "       'D19_NAHRUNGSERGAENZUNG', 'D19_RATGEBER', 'D19_REISEN',\n",
       "       'D19_SAMMELARTIKEL', 'D19_SCHUHE', 'D19_SONSTIGE', 'D19_SOZIALES',\n",
       "       'D19_TECHNIK', 'D19_TELKO_MOBILE', 'D19_TELKO_ONLINE_QUOTE_12',\n",
       "       'D19_TELKO_REST', 'D19_TIERARTIKEL', 'D19_VERSAND_REST',\n",
       "       'D19_VERSICHERUNGEN', 'D19_VERSI_DATUM', 'D19_VERSI_OFFLINE_DATUM',\n",
       "       'D19_VERSI_ONLINE_DATUM', 'D19_VERSI_ONLINE_QUOTE_12',\n",
       "       'D19_VOLLSORTIMENT', 'D19_WEIN_FEINKOST', 'DSL_FLAG',\n",
       "       'EINGEFUEGT_AM', 'EINGEZOGENAM_HH_JAHR', 'EXTSEL992',\n",
       "       'FIRMENDICHTE', 'GEMEINDETYP', 'HH_DELTA_FLAG', 'KBA05_BAUMAX',\n",
       "       'KBA13_ANTG1', 'KBA13_ANTG2', 'KBA13_ANTG3', 'KBA13_ANTG4',\n",
       "       'KBA13_BAUMAX', 'KBA13_CCM_1401_2500', 'KBA13_GBZ', 'KBA13_HHZ',\n",
       "       'KBA13_KMH_210', 'KK_KUNDENTYP', 'KOMBIALTER', 'KONSUMZELLE',\n",
       "       'LNR', 'MOBI_RASTER', 'RT_KEIN_ANREIZ', 'RT_SCHNAEPPCHEN',\n",
       "       'RT_UEBERGROESSE', 'SOHO_KZ', 'STRUKTURTYP', 'UMFELD_ALT',\n",
       "       'UMFELD_JUNG', 'UNGLEICHENN_FLAG', 'VERDICHTUNGSRAUM', 'VHA',\n",
       "       'VHN', 'VK_DHT4A', 'VK_DISTANZ', 'VK_ZG11'], dtype=object)"
      ]
     },
     "execution_count": 365,
     "metadata": {},
     "output_type": "execute_result"
    }
   ],
   "source": [
    "# we can build a dataframe with atributes and type plus description of unknown values \n",
    "print(feat_info.Attribute.nunique())\n",
    "unknown_values = ['unknown', 'unknown / no main age detectable', 'no transactions known', 'numeric value (typically coded from 1-10)',\n",
    "                 'numeric value (typically coded from 1-3)', 'no transaction known']\n",
    "dias_info =  feat_info[feat_info.Meaning.isin(unknown_values)]\n",
    "# Add the ones who don't have unknown values\n",
    "for feat in np.setdiff1d(feat_info.Attribute, dias_info.Attribute):\n",
    "    dias_info = dias_info.append(feat_info[feat_info.Attribute == feat].iloc[0,:2])\n",
    "\n",
    "\n",
    "# Finally add columns missing if the excel spreadsheet\n",
    "np.setdiff1d(azdias.columns.values, dias_info.Attribute)\n",
    "#for column in np.setdiff1d(azdias.columns.values, dias_info.Attribute):\n",
    "#    dias_info['Attribute'] = column\n",
    "#len(azdias.columns.values), len(dias_info.Attribute)\n",
    "#dias_info.Attribute.nunique(), azdias.shape"
   ]
  },
  {
   "cell_type": "markdown",
   "metadata": {},
   "source": [
    "So we will start handling the features that are documented for now and run some cleaning scripts, then we will explore the undocumented ones and decide what to do with them."
   ]
  },
  {
   "cell_type": "code",
   "execution_count": 289,
   "metadata": {},
   "outputs": [],
   "source": [
    "# Check values for a random feature\n",
    "# split a string is a string otherwise return unchanged\n",
    "def split_if_string(x):\n",
    "    if isinstance(x, str):\n",
    "        return x.split(',')\n",
    "    else:\n",
    "        return x\n",
    "# Change ints into floats in a list and leave anything else unchanged\n",
    "def to_float(x):\n",
    "    try:\n",
    "        x = float(x)\n",
    "    except:\n",
    "        pass\n",
    "    return x"
   ]
  },
  {
   "cell_type": "code",
   "execution_count": 290,
   "metadata": {},
   "outputs": [],
   "source": [
    "# The numerical features need to be handled separately, as there are some 0s\n",
    "numerical_features = ['ANZ_HAUSHALTE_AKTIV', 'GEBURTSJAHR', 'ANZ_HH_TITEL', 'ANZ_PERSONEN', 'ANZ_TITEL',\n",
    "                     'KBA13_ANZAHL_PKW', 'MIN_GEBAEUDEJAHR']\n",
    "# ANZ_HAUSHALTE_AKTIV: Number of households in the building, 6463 data points have value=0, we keep them\n",
    "# GEBURTSJAHR: Year of birth: 0 is to be considered null\n",
    "# ANZ_HH_TITEL: number of academic title holder in building: 0 is acceptable, but there are 770244 data points with zero, we set them to null\n",
    "# ANZ_PERSONEN: number of adult persons in the household: 0 not acceptable and there are 34103 with this value (we put null)\n",
    "# ANZ_TITEL: number of professional title holder in household: 0 is acceptabl, 814542 data points have zero, we set them to null\n",
    "# KBA13_ANZAHL_PKW: number of cars in the PLZ8 => 0 is ok\n",
    "# MIN_GEBAEUDEJAHR: year the building was first mentioned in our database => 0 is null\n",
    "\n",
    "def fix_numerical_features(df):\n",
    "    d = {0 : np.nan}\n",
    "    df['GEBURTSJAHR'] = df['GEBURTSJAHR'].replace(d)\n",
    "    df['MIN_GEBAEUDEJAHR'] = df['MIN_GEBAEUDEJAHR'].replace(d)\n",
    "    df['ANZ_PERSONEN'] = df['ANZ_PERSONEN'].replace(d)\n",
    "    df['ANZ_TITEL'] = df['ANZ_TITEL'].replace(d)\n",
    "    df['ANZ_HH_TITEL'] = df['ANZ_HH_TITEL'].replace(d)\n",
    "    return df\n",
    "azdias = fix_numerical_features(azdias)"
   ]
  },
  {
   "cell_type": "code",
   "execution_count": 291,
   "metadata": {},
   "outputs": [
    {
     "name": "stdout",
     "output_type": "stream",
     "text": [
      "Attribute CAMEO_DEUG_2015 has undocumented values {'X'}\n",
      "Attribute CAMEO_DEU_2015 has undocumented values {'XX'}\n",
      "Attribute KBA05_MODTEMP has undocumented values {6.0}\n",
      "Attribute LP_FAMILIE_FEIN has undocumented values {0.0}\n",
      "Attribute LP_FAMILIE_GROB has undocumented values {0.0}\n",
      "Attribute LP_LEBENSPHASE_FEIN has undocumented values {0.0}\n",
      "Attribute LP_LEBENSPHASE_GROB has undocumented values {0.0}\n",
      "Attribute ORTSGR_KLS9 has undocumented values {0.0}\n"
     ]
    }
   ],
   "source": [
    "# Now we will look for \"undocumented\" null values, that are not included in the spreadsheet\n",
    "\n",
    "attributes_to_check = np.setdiff1d(attributes_we_have_info_about, numerical_features)\n",
    "# we can generalize adding all the d19 columns\n",
    "d19_cols = []\n",
    "for column in azdias.columns.values:\n",
    "    if \"D19\" in column:\n",
    "        d19_cols.append(column)\n",
    "\n",
    "\n",
    "# Better align values first as it is taking as different int and floats\n",
    "\n",
    "def check_all_values(df, feat_info):\n",
    "    for attribute in attributes_to_check:\n",
    "        theoretical_vals = feat_info[feat_info.Attribute == attribute].Value.apply(lambda x: split_if_string(x)).values\n",
    "        theoretical_vals = np.hstack(theoretical_vals)\n",
    "        theoretical_vals = [to_float(x) for x in theoretical_vals]\n",
    "        actual_values = df.loc[:, attribute].value_counts().index.values\n",
    "        actual_values = [to_float(x) for x in actual_values]\n",
    "        diff = set(actual_values) - set(theoretical_vals)\n",
    "        if diff != set():\n",
    "            print('Attribute {} has undocumented values {}'.format(attribute, diff))\n",
    "\n",
    "check_all_values(azdias, feat_info)"
   ]
  },
  {
   "cell_type": "markdown",
   "metadata": {},
   "source": [
    "So here we have:\n",
    "\n",
    "CAMEO_DEUG_2015: CAMEO classification 2015 - Uppergroup => X is null\n",
    "\n",
    "CAMEO_DEU_2015: most common building-type within the cell => XX is a null\n",
    "\n",
    "KBA05_MODTEMP: development of the most common car segment in the neighbourhood: we keep 6.0 although it's not documented\n",
    "\n",
    "LP_FAMILIE_FEIN: familytyp fine: 0 is a null, must be between 1 to 11\n",
    "\n",
    "LP_FAMILIE_GROB familytyp rough, must be 1 to 11, so 0 is a null\n",
    "\n",
    "LP_LEBENSPHASE_FEIN: lifestage fine, must be 1 to 40, so 0 is a null\n",
    "\n",
    "LP_LEBENSPHASE_GROB: lifestage rough, must be 1 to 12, so 0 is  a null\n",
    "\n",
    "ORTSGR_KLS9: size of the community, 1 to 9, so 0 is a null\n"
   ]
  },
  {
   "cell_type": "markdown",
   "metadata": {},
   "source": [
    "Now we know which columns contain values that are unknown when the \"Meaning\" in the dataframe has the value \"unknown\".\n",
    "We leave the features that have a value equal to zero with Meaning \"no transaction known\"as they represent transactional activity over a period, so we interpret is as \"zero transactions\".\n",
    "Then there is an additional group of features 'ANZ_HAUSHALTE_AKTIV', 'ANZ_HH_TITEL', 'ANZ_PERSONEN', 'ANZ_TITEL' that are must be analyzed separately as a zero value is equal to null for some of them.\n"
   ]
  },
  {
   "cell_type": "code",
   "execution_count": 306,
   "metadata": {},
   "outputs": [
    {
     "data": {
      "text/plain": [
       "array(['D19_BANKEN_DIREKT', 'D19_BANKEN_GROSS', 'D19_BANKEN_LOKAL',\n",
       "       'D19_BANKEN_REST', 'D19_BEKLEIDUNG_GEH', 'D19_BEKLEIDUNG_REST',\n",
       "       'D19_BILDUNG', 'D19_BIO_OEKO', 'D19_BUCH_CD', 'D19_DIGIT_SERV',\n",
       "       'D19_DROGERIEARTIKEL', 'D19_ENERGIE', 'D19_FREIZEIT', 'D19_GARTEN',\n",
       "       'D19_HANDWERK', 'D19_HAUS_DEKO', 'D19_KINDERARTIKEL',\n",
       "       'D19_KONSUMTYP', 'D19_KONSUMTYP_MAX', 'D19_KOSMETIK',\n",
       "       'D19_LEBENSMITTEL', 'D19_LETZTER_KAUF_BRANCHE', 'D19_LOTTO',\n",
       "       'D19_NAHRUNGSERGAENZUNG', 'D19_RATGEBER', 'D19_REISEN',\n",
       "       'D19_SAMMELARTIKEL', 'D19_SCHUHE', 'D19_SONSTIGE', 'D19_SOZIALES',\n",
       "       'D19_TECHNIK', 'D19_TELKO_MOBILE', 'D19_TELKO_ONLINE_QUOTE_12',\n",
       "       'D19_TELKO_REST', 'D19_TIERARTIKEL', 'D19_VERSAND_REST',\n",
       "       'D19_VERSICHERUNGEN', 'D19_VERSI_DATUM', 'D19_VERSI_OFFLINE_DATUM',\n",
       "       'D19_VERSI_ONLINE_DATUM', 'D19_VERSI_ONLINE_QUOTE_12',\n",
       "       'D19_VOLLSORTIMENT', 'D19_WEIN_FEINKOST'], dtype='<U27')"
      ]
     },
     "execution_count": 306,
     "metadata": {},
     "output_type": "execute_result"
    }
   ],
   "source": [
    "d19_cols = []\n",
    "for column in azdias.columns.values:\n",
    "    if \"D19\" in column:\n",
    "        d19_cols.append(column)\n",
    "np.setdiff1d(d19_cols, feat_info.Attribute.unique())\n",
    "# CAreful with these ones as 0 does not necessarily means unknown"
   ]
  },
  {
   "cell_type": "code",
   "execution_count": 292,
   "metadata": {},
   "outputs": [
    {
     "data": {
      "text/plain": [
       "(array(['KBA05_BAUMAX'], dtype='<U15'),\n",
       " array(['KBA13_ANTG1', 'KBA13_ANTG2', 'KBA13_ANTG3', 'KBA13_ANTG4',\n",
       "        'KBA13_BAUMAX', 'KBA13_CCM_1401_2500', 'KBA13_GBZ', 'KBA13_HHZ',\n",
       "        'KBA13_KMH_210'], dtype='<U27'))"
      ]
     },
     "execution_count": 292,
     "metadata": {},
     "output_type": "execute_result"
    }
   ],
   "source": [
    "# Check also the KBA05 and KBA13 columns\n",
    "kba05 = [] # this ones have -1 or 9 as unknown\n",
    "kba13 = [] # this ones have -1 as unkmnown\n",
    "for column in azdias.columns.values:\n",
    "    if \"KBA05\" in column:\n",
    "        kba05.append(column)\n",
    "for column in azdias.columns.values:\n",
    "    if \"KBA13\" in column:\n",
    "        kba13.append(column)\n",
    "np.setdiff1d(kba05, feat_info.Attribute.unique()), np.setdiff1d(kba13, feat_info.Attribute.unique())\n",
    "d19_cols = []\n",
    "for column in azdias.columns.values:\n",
    "    if \"D19\" in column:\n",
    "        d19_cols.append(column)\n",
    "        "
   ]
  },
  {
   "cell_type": "code",
   "execution_count": 307,
   "metadata": {},
   "outputs": [],
   "source": [
    "def fix_undocumented_nulls(df):\n",
    "    dx = {'X':np.nan}\n",
    "    dxx = {'XX':np.nan}\n",
    "    d0 = {0:np.nan}\n",
    "    dkba05 = {-1:np.nan, 9:np.nan}\n",
    "    dkba13 = {-1:np.nan}\n",
    "    d19 = {0:np.nan}\n",
    "    df['CAMEO_DEUG_2015'] = df['CAMEO_DEUG_2015'].replace(dx)\n",
    "    df['CAMEO_DEU_2015'] = df['CAMEO_DEU_2015'].replace(dxx)\n",
    "    df['CAMEO_INTL_2015'] = df['CAMEO_INTL_2015'].replace(dxx)\n",
    "    df['LP_FAMILIE_FEIN'] = df['LP_FAMILIE_FEIN'].replace(d0)\n",
    "    df['LP_FAMILIE_GROB'] = df['LP_FAMILIE_GROB'].replace(d0)\n",
    "    df['LP_LEBENSPHASE_FEIN'] = df['LP_LEBENSPHASE_FEIN'].replace(d0)\n",
    "    df['LP_LEBENSPHASE_GROB'] = df['LP_LEBENSPHASE_GROB'].replace(d0)\n",
    "    df['ORTSGR_KLS9'] = df['ORTSGR_KLS9'].replace(d0)\n",
    "    \n",
    "    for feat in np.setdiff1d(kba05, feat_info.Attribute.unique()):\n",
    "        df[feat] = df[feat].replace(dkba05)\n",
    "    for feat in np.setdiff1d(kba13, feat_info.Attribute.unique()):\n",
    "        df[feat] = df[feat].replace(dkba13)\n",
    "    # Not sure about those\n",
    "    #for feat in np.setdiff1d(d19_cols, feat_info.Attribute.unique()):\n",
    "        #df[feat] = df[feat].replace(d19)\n",
    "    #return df\n",
    "\n",
    "azdias = fix_undocumented_nulls(azdias) "
   ]
  },
  {
   "cell_type": "code",
   "execution_count": 294,
   "metadata": {},
   "outputs": [],
   "source": [
    "unknown_values = ['unknown', 'unknown / no main age detectable', 'no transactions known']\n",
    "unknown_values_df = feat_info[(feat_info.Attribute.isin(attributes_to_check) & \n",
    "                              (feat_info.Meaning.isin(unknown_values)))]"
   ]
  },
  {
   "cell_type": "code",
   "execution_count": 236,
   "metadata": {},
   "outputs": [],
   "source": [
    "attribute='D19_BANKEN_ANZ_12'\n",
    "#azdias.D19_BANKEN_ANZ_12.value_counts()\n",
    "d = {0:np.nan}\n",
    "#azdias.loc[azdias[attribute] == 0, attribute]\n",
    "azdias['D19_BANKEN_ANZ_12'] = azdias['D19_BANKEN_ANZ_12'].replace(d)\n",
    "#"
   ]
  },
  {
   "cell_type": "code",
   "execution_count": 295,
   "metadata": {},
   "outputs": [
    {
     "name": "stderr",
     "output_type": "stream",
     "text": [
      "[========================================================================] 100%\n"
     ]
    }
   ],
   "source": [
    "# Now we can convert the documented missing Value Codes to NaNs. Not all columns in the population dataset are included in the informational spreadsheets\n",
    "# This will take a while for the population dataset\n",
    "import progressbar\n",
    "\n",
    "def is_number(s):\n",
    "    try:\n",
    "        float(s)\n",
    "        return True\n",
    "    except ValueError:\n",
    "        return False\n",
    "    \n",
    "\n",
    "def convert_unknown(df, unknown_values_df):\n",
    "    \n",
    "    n_iters = unknown_values_df.shape[0]\n",
    "    cnter = 0\n",
    "    bar = progressbar.ProgressBar(maxval=n_iters+1, widgets=[progressbar.Bar('=', '[', ']'), ' ', progressbar.Percentage()])\n",
    "    bar.start()\n",
    "    \n",
    "    for _, row in unknown_values_df.iterrows():\n",
    "        if isinstance(row.Value, str):\n",
    "            d = {}\n",
    "            for unknown_value in row.Value.split(','):\n",
    "                d[float(unknown_value)] = np.nan\n",
    "            df[row.Attribute] = df[row.Attribute].replace(d)\n",
    "        else:\n",
    "            d = {row.Value : np.nan}\n",
    "            df[row.Attribute] = df[row.Attribute].replace(d)\n",
    "        cnter+=1 \n",
    "        bar.update(cnter)\n",
    "    \n",
    "    bar.finish()            \n",
    "    return df\n",
    "\n",
    "unknown_values = ['unknown', 'unknown / no main age detectable', 'no transactions known']\n",
    "unknown_values_df = feat_info[(feat_info.Attribute.isin(attributes_to_check) & \n",
    "                              (feat_info.Meaning.isin(unknown_values)))]\n",
    "azdias = convert_unknown(azdias, unknown_values_df)"
   ]
  },
  {
   "cell_type": "code",
   "execution_count": 296,
   "metadata": {},
   "outputs": [],
   "source": [
    "# Now we can have a look at the float vs int problem in the categorical features we had at the beginning\n",
    "azdias['CAMEO_DEUG_2015'] = azdias['CAMEO_DEUG_2015'].astype(float)\n",
    "azdias['CAMEO_INTL_2015'] = azdias['CAMEO_INTL_2015'].astype(float)"
   ]
  },
  {
   "cell_type": "code",
   "execution_count": 297,
   "metadata": {},
   "outputs": [],
   "source": [
    "# Now we can save it\n",
    "azdias.to_feather('azdias_nulls.feather')"
   ]
  },
  {
   "cell_type": "markdown",
   "metadata": {},
   "source": [
    "### Choosing columns to drop\n",
    "We will analyze the amount of missing data and choose which columns to drop.\n",
    "Additionally some columns may be dropped for tyher reasons, for example:\n",
    "- if they have unique values\n",
    "- if they are categorical values with too many different values, for example more than 10 categories\n",
    "- when we don't have enough information to decide how to encode them\n",
    "- features that are a possible source of ethical bias"
   ]
  },
  {
   "cell_type": "code",
   "execution_count": 258,
   "metadata": {},
   "outputs": [
    {
     "data": {
      "image/png": "[encoded data removed]",
      "text/plain": [
       "<Figure size 432x288 with 1 Axes>"
      ]
     },
     "metadata": {},
     "output_type": "display_data"
    }
   ],
   "source": [
    "# Assess missing data in columns\n",
    "plt.hist(azdias.isnull().sum(), bins=20)\n",
    "plt.title('Distributions of null values in the Demographics')\n",
    "plt.xlabel('# Null Values')\n",
    "plt.ylabel('Columns');"
   ]
  },
  {
   "cell_type": "code",
   "execution_count": 308,
   "metadata": {},
   "outputs": [],
   "source": [
    "# Investigate patterns in the amount of missing data in each column.\n",
    "columns = azdias.isnull().sum().sort_values(ascending=False)\n",
    "#[(columns, nulls) for columns, nulls in columns.items() if nulls > 0]\n"
   ]
  },
  {
   "cell_type": "code",
   "execution_count": 311,
   "metadata": {},
   "outputs": [
    {
     "data": {
      "text/plain": [
       "Text(0.5,1,'Attributes with more than 30% of missing values')"
      ]
     },
     "execution_count": 311,
     "metadata": {},
     "output_type": "execute_result"
    },
    {
     "data": {
      "image/png": "[encoded data removed]",
      "text/plain": [
       "<Figure size 360x1080 with 1 Axes>"
      ]
     },
     "metadata": {},
     "output_type": "display_data"
    }
   ],
   "source": [
    "percent_missing = columns/azdias.shape[0]\n",
    "data = percent_missing[percent_missing > 0.3]\n",
    "plt.figure(figsize=(5,15))\n",
    "sns.barplot(y=data.index, x=data.values, orient='h', color='blue')\n",
    "plt.title(\"Attributes with more than 30% of missing values\")"
   ]
  },
  {
   "cell_type": "code",
   "execution_count": 312,
   "metadata": {},
   "outputs": [
    {
     "data": {
      "text/plain": [
       "10.0    767\n",
       "5.0      19\n",
       "7.0       1\n",
       "3.0       1\n",
       "Name: D19_TELKO_ONLINE_QUOTE_12, dtype: int64"
      ]
     },
     "execution_count": 312,
     "metadata": {},
     "output_type": "execute_result"
    }
   ],
   "source": [
    "#data.shape\n",
    "azdias.D19_TELKO_ONLINE_QUOTE_12.value_counts()"
   ]
  },
  {
   "cell_type": "code",
   "execution_count": 302,
   "metadata": {},
   "outputs": [
    {
     "name": "stdout",
     "output_type": "stream",
     "text": [
      "['AGER_TYP', 'ALTER_HH', 'ALTER_KIND1', 'ALTER_KIND2', 'ALTER_KIND3', 'ALTER_KIND4', 'ANZ_HH_TITEL', 'ANZ_TITEL', 'D19_BANKEN_ANZ_12', 'D19_BANKEN_ANZ_24', 'D19_BANKEN_DATUM', 'D19_BANKEN_OFFLINE_DATUM', 'D19_BANKEN_ONLINE_DATUM', 'D19_GESAMT_ANZ_12', 'D19_GESAMT_ANZ_24', 'D19_GESAMT_DATUM', 'D19_GESAMT_OFFLINE_DATUM', 'D19_GESAMT_ONLINE_DATUM', 'D19_TELKO_ANZ_12', 'D19_TELKO_ANZ_24', 'D19_TELKO_DATUM', 'D19_TELKO_OFFLINE_DATUM', 'D19_TELKO_ONLINE_DATUM', 'D19_VERSAND_ANZ_12', 'D19_VERSAND_ANZ_24', 'D19_VERSAND_DATUM', 'D19_VERSAND_OFFLINE_DATUM', 'D19_VERSAND_ONLINE_DATUM', 'D19_VERSI_ANZ_12', 'D19_VERSI_ANZ_24', 'EXTSEL992', 'GEBURTSJAHR', 'KK_KUNDENTYP', 'TITEL_KZ']\n"
     ]
    }
   ],
   "source": [
    "#The distribution above shows that some outlier features have more thn 250000 null values. \n",
    "# Since we will run this script on the customer data set as well, we will use a % of the whole dataset =>28%\n",
    "# Considering the dataset has 891221 data points, we can select those ones candidates features to be dropped\n",
    "columns_to_drop = [s for s, v in (azdias.isnull().sum() > azdias.shape[0] * 0.3).items() if v]\n",
    "print(columns_to_drop)\n",
    "#azdias.drop(columns_to_drop, axis=1, inplace=True)"
   ]
  },
  {
   "cell_type": "code",
   "execution_count": 269,
   "metadata": {},
   "outputs": [
    {
     "data": {
      "text/plain": [
       "34"
      ]
     },
     "execution_count": 269,
     "metadata": {},
     "output_type": "execute_result"
    }
   ],
   "source": [
    "len(columns_to_drop)\n",
    "\n"
   ]
  },
  {
   "cell_type": "code",
   "execution_count": 130,
   "metadata": {},
   "outputs": [],
   "source": [
    "\n"
   ]
  },
  {
   "cell_type": "code",
   "execution_count": 134,
   "metadata": {},
   "outputs": [
    {
     "data": {
      "text/plain": [
       "array(['AKT_DAT_KL', 'ANZ_KINDER', 'ANZ_STATISTISCHE_HAUSHALTE', 'ARBEIT',\n",
       "       'CAMEO_INTL_2015', 'CJT_KATALOGNUTZER', 'CJT_TYP_1', 'CJT_TYP_2',\n",
       "       'CJT_TYP_3', 'CJT_TYP_4', 'CJT_TYP_5', 'CJT_TYP_6',\n",
       "       'D19_BANKEN_DIREKT', 'D19_BANKEN_GROSS', 'D19_BANKEN_LOKAL',\n",
       "       'D19_BANKEN_REST', 'D19_BEKLEIDUNG_GEH', 'D19_BEKLEIDUNG_REST',\n",
       "       'D19_BILDUNG', 'D19_BIO_OEKO', 'D19_BUCH_CD', 'D19_DIGIT_SERV',\n",
       "       'D19_DROGERIEARTIKEL', 'D19_ENERGIE', 'D19_FREIZEIT', 'D19_GARTEN',\n",
       "       'D19_HANDWERK', 'D19_HAUS_DEKO', 'D19_KINDERARTIKEL',\n",
       "       'D19_KONSUMTYP_MAX', 'D19_KOSMETIK', 'D19_LEBENSMITTEL',\n",
       "       'D19_NAHRUNGSERGAENZUNG', 'D19_RATGEBER', 'D19_REISEN',\n",
       "       'D19_SAMMELARTIKEL', 'D19_SCHUHE', 'D19_SONSTIGE', 'D19_TECHNIK',\n",
       "       'D19_TELKO_MOBILE', 'D19_TELKO_REST', 'D19_TIERARTIKEL',\n",
       "       'D19_VERSAND_REST', 'D19_VERSICHERUNGEN', 'D19_VERSI_DATUM',\n",
       "       'D19_VERSI_OFFLINE_DATUM', 'D19_VERSI_ONLINE_DATUM',\n",
       "       'D19_VOLLSORTIMENT', 'D19_WEIN_FEINKOST', 'DSL_FLAG',\n",
       "       'EINGEFUEGT_AM', 'EINGEZOGENAM_HH_JAHR', 'FIRMENDICHTE',\n",
       "       'GEMEINDETYP', 'HH_DELTA_FLAG', 'KBA05_BAUMAX', 'KBA13_ANTG1',\n",
       "       'KBA13_ANTG2', 'KBA13_ANTG3', 'KBA13_ANTG4', 'KBA13_BAUMAX',\n",
       "       'KBA13_CCM_1401_2500', 'KBA13_GBZ', 'KBA13_HHZ', 'KBA13_KMH_210',\n",
       "       'KOMBIALTER', 'KONSUMZELLE', 'LNR', 'MOBI_RASTER',\n",
       "       'RT_KEIN_ANREIZ', 'RT_SCHNAEPPCHEN', 'RT_UEBERGROESSE', 'SOHO_KZ',\n",
       "       'STRUKTURTYP', 'UMFELD_ALT', 'UMFELD_JUNG', 'UNGLEICHENN_FLAG',\n",
       "       'VERDICHTUNGSRAUM', 'VHA', 'VHN', 'VK_DHT4A', 'VK_DISTANZ',\n",
       "       'VK_ZG11'], dtype=object)"
      ]
     },
     "execution_count": 134,
     "metadata": {},
     "output_type": "execute_result"
    }
   ],
   "source": [
    "# Let's have a look at the undocumented features: most of them are categorical, we don;t have information about the required values\n",
    "# We can look for usually null value equivalents like -1 or 'X' or 'XX', but there are none of those \n",
    "np.setdiff1d(attributes_we_dont_have_info, columns_to_drop)\n",
    "\n",
    "#(azdias[attributes_we_dont_have_info]=='XX').sum().sum(), (azdias[attributes_we_dont_have_info]==-1).sum().sum(), \n",
    "#(azdias[attributes_we_dont_have_info]=='X').sum().sum()"
   ]
  },
  {
   "cell_type": "markdown",
   "metadata": {},
   "source": [
    "Column with unique values"
   ]
  },
  {
   "cell_type": "code",
   "execution_count": 135,
   "metadata": {},
   "outputs": [
    {
     "data": {
      "text/plain": [
       "(891221,)"
      ]
     },
     "execution_count": 135,
     "metadata": {},
     "output_type": "execute_result"
    }
   ],
   "source": [
    "# Columns with unique values, doesn't give any information\n",
    "azdias.LNR.value_counts().shape"
   ]
  },
  {
   "cell_type": "code",
   "execution_count": 136,
   "metadata": {},
   "outputs": [],
   "source": [
    "# So we will drop it\n",
    "azdias.drop('LNR', axis=1, inplace=True)"
   ]
  },
  {
   "cell_type": "markdown",
   "metadata": {},
   "source": [
    "Features that are a possible source of ethical bias"
   ]
  },
  {
   "cell_type": "code",
   "execution_count": 137,
   "metadata": {},
   "outputs": [],
   "source": [
    "# NATIONALITAET_KZ: possible source of ethical bias\n",
    "azdias.drop('NATIONALITAET_KZ', axis=1, inplace=True)"
   ]
  },
  {
   "cell_type": "markdown",
   "metadata": {},
   "source": [
    "Exploring Categiorical Features with Multi-values"
   ]
  },
  {
   "cell_type": "code",
   "execution_count": 146,
   "metadata": {},
   "outputs": [],
   "source": [
    "# Categorical Multi-values with too many values\n",
    "multi_categorical_too_many_values = ['CAMEO_DEU_2015','GFK_URLAUBERTYP','LP_LEBENSPHASE_FEIN', 'VERDICHTUNGSRAUM']\n",
    "# two of those have already been dropped\n",
    "azdias.drop(multi_categorical_too_many_values, axis=1, inplace=True)\n"
   ]
  },
  {
   "cell_type": "code",
   "execution_count": 157,
   "metadata": {},
   "outputs": [
    {
     "name": "stdout",
     "output_type": "stream",
     "text": [
      "Feature ANZ_KINDER has 11 categories\n",
      "Feature ANZ_STATISTISCHE_HAUSHALTE has 268 categories\n",
      "Feature CAMEO_INTL_2015 has 21 categories\n",
      "Feature EINGEZOGENAM_HH_JAHR has 37 categories\n",
      "Feature LP_FAMILIE_FEIN has 11 categories\n",
      "Feature LP_LEBENSPHASE_GROB has 12 categories\n",
      "Feature PRAEGENDE_JUGENDJAHRE has 15 categories\n",
      "Feature VK_DHT4A has 11 categories\n",
      "Feature VK_DISTANZ has 13 categories\n",
      "Feature VK_ZG11 has 11 categories\n"
     ]
    }
   ],
   "source": [
    "# Let's have a look at the other categorical features\n",
    "categorical_features = np.setdiff1d(azdias.columns.values, numerical_features)\n",
    "azdias['AKT_DAT_KL'].value_counts().shape[0]\n",
    "\n",
    "for categ in categorical_features:\n",
    "    num_categs = azdias[categ].value_counts().shape[0]\n",
    "    if num_categs > 10:\n",
    "        print(\"Feature {} has {} categories\".format(categ, num_categs))\n",
    "\n",
    "    "
   ]
  },
  {
   "cell_type": "code",
   "execution_count": 166,
   "metadata": {},
   "outputs": [
    {
     "data": {
      "text/plain": [
       "10.0    97938\n",
       "5.0     97777\n",
       "6.0     88581\n",
       "7.0     88552\n",
       "4.0     86600\n",
       "8.0     83994\n",
       "9.0     82134\n",
       "3.0     69634\n",
       "2.0     59916\n",
       "1.0     52009\n",
       "11.0     8169\n",
       "Name: VK_ZG11, dtype: int64"
      ]
     },
     "execution_count": 166,
     "metadata": {},
     "output_type": "execute_result"
    }
   ],
   "source": [
    "#azdias.ANZ_KINDER.value_counts()\n",
    "# 731242 zeros-> we drop it\n",
    "#azdias.ANZ_STATISTISCHE_HAUSHALTE.value_counts()\n",
    "# No information from the spreadsheets, drop?\n",
    "azdias.EINGEZOGENAM_HH_JAHR.value_counts()\n",
    "# Looks like a year related information, we keep it as it is\n",
    "azdias.LP_FAMILIE_FEIN.value_counts()\n",
    "# Family type, we will hot-encode it\n",
    "azdias.LP_LEBENSPHASE_GROB.value_counts()\n",
    "# Ordinal, we keep it\n",
    "#CAMEO_INTL_2015 and PRAEGENDE_JUGENDJAHRE we will re-engineer them\n",
    "azdias.VK_DHT4A.value_counts()\n",
    "# Looks ordinal\n",
    "azdias.VK_DISTANZ.value_counts()\n",
    "# Looks ordinal\n",
    "azdias.VK_ZG11.value_counts()\n",
    "# Looks ordinal"
   ]
  },
  {
   "cell_type": "code",
   "execution_count": 167,
   "metadata": {},
   "outputs": [],
   "source": [
    "# So we have 2 more columns to drop\n",
    "drop_these_ones_too = ['ANZ_KINDER', 'ANZ_STATISTISCHE_HAUSHALTE']\n",
    "azdias.drop(drop_these_ones_too, axis=1, inplace=True)"
   ]
  },
  {
   "cell_type": "code",
   "execution_count": 168,
   "metadata": {},
   "outputs": [],
   "source": [
    "# Saving\n",
    "azdias.to_feather('azdias.feather')"
   ]
  },
  {
   "cell_type": "code",
   "execution_count": 23,
   "metadata": {},
   "outputs": [
    {
     "name": "stderr",
     "output_type": "stream",
     "text": [
      "/Users/maurizio/anaconda3/lib/python3.6/site-packages/pandas/io/feather_format.py:112: FutureWarning: `nthreads` argument is deprecated, pass `use_threads` instead\n",
      "  return feather.read_dataframe(path, nthreads=nthreads)\n"
     ]
    }
   ],
   "source": [
    "azdias = pd.read_feather('azdias.feather')"
   ]
  },
  {
   "cell_type": "code",
   "execution_count": 11,
   "metadata": {},
   "outputs": [
    {
     "data": {
      "text/plain": [
       "Text(0,0.5,'Rows')"
      ]
     },
     "execution_count": 11,
     "metadata": {},
     "output_type": "execute_result"
    },
    {
     "data": {
      "image/png": "[encoded data removed]",
      "text/plain": [
       "<Figure size 432x288 with 1 Axes>"
      ]
     },
     "metadata": {},
     "output_type": "display_data"
    }
   ],
   "source": [
    "# How much data is missing in each row of the dataset?\n",
    "plt.hist(azdias.isnull().sum(axis=1), bins=40)\n",
    "plt.title('Distributions of null values in the rows Demographics')\n",
    "plt.xlabel('# Null Values')\n",
    "plt.ylabel('Rows')"
   ]
  },
  {
   "cell_type": "code",
   "execution_count": 17,
   "metadata": {},
   "outputs": [],
   "source": [
    "# We can see that the large majority of the population has less than 50 null fatures.\n",
    "# we can remove the datapoints with more than 50 nulls in each row\n",
    "\n",
    "azdias.dropna(thresh=azdias.shape[1] - 50, inplace=True)"
   ]
  },
  {
   "cell_type": "code",
   "execution_count": 18,
   "metadata": {},
   "outputs": [
    {
     "data": {
      "text/plain": [
       "Text(0,0.5,'Rows')"
      ]
     },
     "execution_count": 18,
     "metadata": {},
     "output_type": "execute_result"
    },
    {
     "data": {
      "image/png": "[encoded data removed]",
      "text/plain": [
       "<Figure size 432x288 with 1 Axes>"
      ]
     },
     "metadata": {},
     "output_type": "display_data"
    }
   ],
   "source": [
    "# How much data is missing in each row of the dataset?\n",
    "plt.hist(azdias.isnull().sum(axis=1), bins=40)\n",
    "plt.title('Distributions of null values in the rows Demographics')\n",
    "plt.xlabel('# Null Values')\n",
    "plt.ylabel('Rows')"
   ]
  },
  {
   "cell_type": "markdown",
   "metadata": {},
   "source": [
    "### Features Re-encoding\n",
    "Some categorical features need re-encoding. We will look at the spreadsheet to choose which ones to re-encode.\n",
    "Since the unsupervised learning techniques to be used will only work on data that is encoded numerically, we need to make a few encoding changes or additional assumptions to be able to make progress. In addition, while almost all of the values in the dataset are encoded using numbers, not all of them represent numeric values.\n",
    "\n",
    "- For numeric and interval data, these features can be kept without changes.\n",
    "- Most of the variables in the dataset are ordinal in nature. While ordinal values may technically be non-linear in spacing, we make the simplifying assumption that the ordinal variables can be treated as being interval in nature (that is, kept without any changes).\n",
    "- Special handling will be necessary for the remaining two variable types: categorical, and 'mixed'.\n",
    "\n",
    "Are there binary categorical features that need re-encoding?\n",
    "Are there multi-level categorical features that need re-encoding?\n"
   ]
  },
  {
   "cell_type": "code",
   "execution_count": 57,
   "metadata": {},
   "outputs": [
    {
     "data": {
      "text/plain": [
       "W    629528\n",
       "O    168545\n",
       "Name: OST_WEST_KZ, dtype: int64"
      ]
     },
     "execution_count": 57,
     "metadata": {},
     "output_type": "execute_result"
    }
   ],
   "source": [
    "# Binary categorical features\n",
    "# OST_WEST_KZ: flag indicating the former GDR/FRG\n",
    "#azdias['OST_WEST_KZ'].value_counts()\n",
    "\n",
    "ost_west_dict = {'OST_WEST_KZ': {'W':0, 'O':1}}\n",
    "azdias.replace(ost_west_dict, inplace=True)\n"
   ]
  },
  {
   "cell_type": "markdown",
   "metadata": {},
   "source": [
    "Multi-level categoricals (three or more values) will be one-hot encoded using multiple dummy variables."
   ]
  },
  {
   "cell_type": "code",
   "execution_count": 71,
   "metadata": {},
   "outputs": [
    {
     "data": {
      "text/plain": [
       "0.0     236768\n",
       "18.0     60852\n",
       "17.0     55665\n",
       "19.0     52890\n",
       "15.0     51867\n",
       "16.0     51857\n",
       "14.0     44275\n",
       "21.0     41610\n",
       "20.0     40671\n",
       "13.0     37612\n",
       "12.0     34923\n",
       "10.0     30419\n",
       "11.0     27924\n",
       "9.0      22817\n",
       "8.0      13463\n",
       "7.0       8419\n",
       "6.0       3809\n",
       "5.0       1030\n",
       "4.0        603\n",
       "3.0        200\n",
       "2.0         47\n",
       "1.0          1\n",
       "Name: ALTER_HH, dtype: int64"
      ]
     },
     "execution_count": 71,
     "metadata": {},
     "output_type": "execute_result"
    }
   ],
   "source": [
    "# Multi value features \n",
    "columns_to_reencode=['FINANZTYP', 'CAMEO_DEU_2015', 'LP_STATUS_FEIN', 'LP_STATUS_GROB',\n",
    "                      'ZABEOTYP', 'CJT_GESAMTTYP', 'GFK_URLAUBERTYP', 'CAMEO_DEUG_2015', \n",
    "                      'SHOPPER_TYP', 'LP_FAMILIE_GROB','LP_FAMILIE_FEIN']\n",
    "#azdias[columns_to_reencode].head()\n",
    "azdias.ALTER_HH.value_counts()"
   ]
  },
  {
   "cell_type": "code",
   "execution_count": 70,
   "metadata": {},
   "outputs": [],
   "source": [
    "# Special cases: Mixed-Type Features\n",
    "#LP_FAMILIE_GROB, LP_STATUS_GROB, PRAEGENDE_JUGENDJAHRE, CAMEO_DEUINTL_2015, CAMEO_DEU_2015, CAMEO_INTL_2015"
   ]
  },
  {
   "cell_type": "markdown",
   "metadata": {},
   "source": [
    "## Part 1: Customer Segmentation Report\n",
    "\n",
    "The main bulk of your analysis will come in this part of the project. Here, you should use unsupervised learning techniques to describe the relationship between the demographics of the company's existing customers and the general population of Germany. By the end of this part, you should be able to describe parts of the general population that are more likely to be part of the mail-order company's main customer base, and which parts of the general population are less so."
   ]
  },
  {
   "cell_type": "code",
   "execution_count": null,
   "metadata": {},
   "outputs": [],
   "source": []
  },
  {
   "cell_type": "code",
   "execution_count": 56,
   "metadata": {},
   "outputs": [],
   "source": []
  },
  {
   "cell_type": "markdown",
   "metadata": {},
   "source": [
    "## Part 2: Supervised Learning Model\n",
    "\n",
    "Now that you've found which parts of the population are more likely to be customers of the mail-order company, it's time to build a prediction model. Each of the rows in the \"MAILOUT\" data files represents an individual that was targeted for a mailout campaign. Ideally, we should be able to use the demographic information from each individual to decide whether or not it will be worth it to include that person in the campaign.\n",
    "\n",
    "The \"MAILOUT\" data has been split into two approximately equal parts, each with almost 43 000 data rows. In this part, you can verify your model with the \"TRAIN\" partition, which i\n",
    "ncludes a column, \"RESPONSE\", that states whether or not a person became a customer of the company following the campaign. In the next part, you'll need to create predictions on the \"TEST\" partition, where the \"RESPONSE\" column has been withheld."
   ]
  },
  {
   "cell_type": "code",
   "execution_count": null,
   "metadata": {},
   "outputs": [],
   "source": [
    "mailout_train = pd.read_csv('../../data/Term2/capstone/arvato_data/Udacity_MAILOUT_052018_TRAIN.csv', sep=';')"
   ]
  },
  {
   "cell_type": "code",
   "execution_count": null,
   "metadata": {},
   "outputs": [],
   "source": []
  },
  {
   "cell_type": "markdown",
   "metadata": {},
   "source": [
    "## Part 3: Kaggle Competition\n",
    "\n",
    "Now that you've created a model to predict which individuals are most likely to respond to a mailout campaign, it's time to test that model in competition through Kaggle. If you click on the link [here](http://www.kaggle.com/t/21e6d45d4c574c7fa2d868f0e8c83140), you'll be taken to the competition page where, if you have a Kaggle account, you can enter. If you're one of the top performers, you may have the chance to be contacted by a hiring manager from Arvato or Bertelsmann for an interview!\n",
    "\n",
    "Your entry to the competition should be a CSV file with two columns. The first column should be a copy of \"LNR\", which acts as an ID number for each individual in the \"TEST\" partition. The second column, \"RESPONSE\", should be some measure of how likely each individual became a customer – this might not be a straightforward probability. As you should have found in Part 2, there is a large output class imbalance, where most individuals did not respond to the mailout. Thus, predicting individual classes and using accuracy does not seem to be an appropriate performance evaluation method. Instead, the competition will be using AUC to evaluate performance. The exact values of the \"RESPONSE\" column do not matter as much: only that the higher values try to capture as many of the actual customers as possible, early in the ROC curve sweep."
   ]
  },
  {
   "cell_type": "code",
   "execution_count": null,
   "metadata": {},
   "outputs": [],
   "source": [
    "mailout_test = pd.read_csv('../../data/Term2/capstone/arvato_data/Udacity_MAILOUT_052018_TEST.csv', sep=';')"
   ]
  },
  {
   "cell_type": "code",
   "execution_count": null,
   "metadata": {},
   "outputs": [],
   "source": []
  }
 ],
 "metadata": {
  "kernelspec": {
   "display_name": "Python [default]",
   "language": "python",
   "name": "python3"
  },
  "language_info": {
   "codemirror_mode": {
    "name": "ipython",
    "version": 3
   },
   "file_extension": ".py",
   "mimetype": "text/x-python",
   "name": "python",
   "nbconvert_exporter": "python",
   "pygments_lexer": "ipython3",
   "version": "3.6.6"
  }
 },
 "nbformat": 4,
 "nbformat_minor": 2
}
