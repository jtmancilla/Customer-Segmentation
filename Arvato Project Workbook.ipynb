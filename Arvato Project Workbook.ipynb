{
 "cells": [
  {
   "cell_type": "markdown",
   "metadata": {},
   "source": [
    "# Capstone Project: Create a Customer Segmentation Report for Arvato Financial Services\n",
    "\n",
    "In this project, you will analyze demographics data for customers of a mail-order sales company in Germany, comparing it against demographics information for the general population. You'll use unsupervised learning techniques to perform customer segmentation, identifying the parts of the population that best describe the core customer base of the company. Then, you'll apply what you've learned on a third dataset with demographics information for targets of a marketing campaign for the company, and use a model to predict which individuals are most likely to convert into becoming customers for the company. The data that you will use has been provided by our partners at Bertelsmann Arvato Analytics, and represents a real-life data science task.\n",
    "\n",
    "If you completed the first term of this program, you will be familiar with the first part of this project, from the unsupervised learning project. The versions of those two datasets used in this project will include many more features and has not been pre-cleaned. You are also free to choose whatever approach you'd like to analyzing the data rather than follow pre-determined steps. In your work on this project, make sure that you carefully document your steps and decisions, since your main deliverable for this project will be a blog post reporting your findings."
   ]
  },
  {
   "cell_type": "code",
   "execution_count": 366,
   "metadata": {},
   "outputs": [],
   "source": [
    "# import libraries here; add more as necessary\n",
    "import numpy as np\n",
    "import pandas as pd\n",
    "import matplotlib.pyplot as plt\n",
    "import seaborn as sns\n",
    "\n",
    "# magic word for producing visualizations in notebook\n",
    "%matplotlib inline"
   ]
  },
  {
   "cell_type": "markdown",
   "metadata": {},
   "source": [
    "## Part 0: Get to Know the Data\n",
    "\n",
    "There are four data files associated with this project:\n",
    "\n",
    "- `Udacity_AZDIAS_052018.csv`: Demographics data for the general population of Germany; 891 211 persons (rows) x 366 features (columns).\n",
    "- `Udacity_CUSTOMERS_052018.csv`: Demographics data for customers of a mail-order company; 191 652 persons (rows) x 369 features (columns).\n",
    "- `Udacity_MAILOUT_052018_TRAIN.csv`: Demographics data for individuals who were targets of a marketing campaign; 42 982 persons (rows) x 367 (columns).\n",
    "- `Udacity_MAILOUT_052018_TEST.csv`: Demographics data for individuals who were targets of a marketing campaign; 42 833 persons (rows) x 366 (columns).\n",
    "\n",
    "Each row of the demographics files represents a single person, but also includes information outside of individuals, including information about their household, building, and neighborhood. Use the information from the first two files to figure out how customers (\"CUSTOMERS\") are similar to or differ from the general population at large (\"AZDIAS\"), then use your analysis to make predictions on the other two files (\"MAILOUT\"), predicting which recipients are most likely to become a customer for the mail-order company.\n",
    "\n",
    "The \"CUSTOMERS\" file contains three extra columns ('CUSTOMER_GROUP', 'ONLINE_PURCHASE', and 'PRODUCT_GROUP'), which provide broad information about the customers depicted in the file. The original \"MAILOUT\" file included one additional column, \"RESPONSE\", which indicated whether or not each recipient became a customer of the company. For the \"TRAIN\" subset, this column has been retained, but in the \"TEST\" subset it has been removed; it is against that withheld column that your final predictions will be assessed in the Kaggle competition.\n",
    "\n",
    "Otherwise, all of the remaining columns are the same between the three data files. For more information about the columns depicted in the files, you can refer to two Excel spreadsheets provided in the workspace. [One of them](./DIAS Information Levels - Attributes 2017.xlsx) is a top-level list of attributes and descriptions, organized by informational category. [The other](./DIAS Attributes - Values 2017.xlsx) is a detailed mapping of data values for each feature in alphabetical order.\n",
    "\n",
    "In the below cell, we've provided some initial code to load in the first two datasets. Note for all of the `.csv` data files in this project that they're semicolon (`;`) delimited, so an additional argument in the [`read_csv()`](https://pandas.pydata.org/pandas-docs/stable/generated/pandas.read_csv.html) call has been included to read in the data properly. Also, considering the size of the datasets, it may take some time for them to load completely.\n",
    "\n",
    "You'll notice when the data is loaded in that a warning message will immediately pop up. Before you really start digging into the modeling and analysis, you're going to need to perform some cleaning. Take some time to browse the structure of the data and look over the informational spreadsheets to understand the data values. Make some decisions on which features to keep, which features to drop, and if any revisions need to be made on data formats. It'll be a good idea to create a function with pre-processing steps, since you'll need to clean all of the datasets before you work with them."
   ]
  },
  {
   "cell_type": "code",
   "execution_count": 737,
   "metadata": {},
   "outputs": [
    {
     "name": "stderr",
     "output_type": "stream",
     "text": [
      "/Users/maurizio/anaconda3/lib/python3.6/site-packages/IPython/core/interactiveshell.py:2785: DtypeWarning: Columns (18,19) have mixed types. Specify dtype option on import or set low_memory=False.\n",
      "  interactivity=interactivity, compiler=compiler, result=result)\n"
     ]
    }
   ],
   "source": [
    "# load in the data\n",
    "#azdias = pd.read_csv('../../data/Term2/capstone/arvato_data/Udacity_AZDIAS_052018.csv', sep=';')\n",
    "#customers = pd.read_csv('../../data/Term2/capstone/arvato_data/Udacity_CUSTOMERS_052018.csv', sep=';')\n",
    "azdias = pd.read_csv('arvato_data/Udacity_AZDIAS_052018.csv', sep=';')\n",
    "#customers = pd.read_csv('arvato_data/Udacity_CUSTOMERS_052018.csv', sep=';')"
   ]
  },
  {
   "cell_type": "markdown",
   "metadata": {},
   "source": [
    "Looks we had some trouble already while importing with some features that have mixed types values"
   ]
  },
  {
   "cell_type": "code",
   "execution_count": 556,
   "metadata": {},
   "outputs": [
    {
     "data": {
      "text/html": [
       "<div>\n",
       "<style scoped>\n",
       "    .dataframe tbody tr th:only-of-type {\n",
       "        vertical-align: middle;\n",
       "    }\n",
       "\n",
       "    .dataframe tbody tr th {\n",
       "        vertical-align: top;\n",
       "    }\n",
       "\n",
       "    .dataframe thead th {\n",
       "        text-align: right;\n",
       "    }\n",
       "</style>\n",
       "<table border=\"1\" class=\"dataframe\">\n",
       "  <thead>\n",
       "    <tr style=\"text-align: right;\">\n",
       "      <th></th>\n",
       "      <th>CAMEO_DEUG_2015</th>\n",
       "      <th>CAMEO_INTL_2015</th>\n",
       "    </tr>\n",
       "  </thead>\n",
       "  <tbody>\n",
       "    <tr>\n",
       "      <th>0</th>\n",
       "      <td>NaN</td>\n",
       "      <td>NaN</td>\n",
       "    </tr>\n",
       "    <tr>\n",
       "      <th>1</th>\n",
       "      <td>8</td>\n",
       "      <td>51</td>\n",
       "    </tr>\n",
       "    <tr>\n",
       "      <th>2</th>\n",
       "      <td>4</td>\n",
       "      <td>24</td>\n",
       "    </tr>\n",
       "    <tr>\n",
       "      <th>3</th>\n",
       "      <td>2</td>\n",
       "      <td>12</td>\n",
       "    </tr>\n",
       "    <tr>\n",
       "      <th>4</th>\n",
       "      <td>6</td>\n",
       "      <td>43</td>\n",
       "    </tr>\n",
       "  </tbody>\n",
       "</table>\n",
       "</div>"
      ],
      "text/plain": [
       "  CAMEO_DEUG_2015 CAMEO_INTL_2015\n",
       "0             NaN             NaN\n",
       "1               8              51\n",
       "2               4              24\n",
       "3               2              12\n",
       "4               6              43"
      ]
     },
     "execution_count": 556,
     "metadata": {},
     "output_type": "execute_result"
    }
   ],
   "source": [
    "# These two featutres have mixed type float and string\n",
    "azdias.iloc[:,18:20].head()"
   ]
  },
  {
   "cell_type": "code",
   "execution_count": 557,
   "metadata": {},
   "outputs": [
    {
     "data": {
      "text/plain": [
       "8      78023\n",
       "9      62578\n",
       "6      61253\n",
       "4      60185\n",
       "8.0    56418\n",
       "3      50360\n",
       "2      48276\n",
       "9.0    45599\n",
       "7      45021\n",
       "6.0    44621\n",
       "4.0    43727\n",
       "3.0    36419\n",
       "2.0    34955\n",
       "7.0    32912\n",
       "5      32292\n",
       "5.0    23018\n",
       "1      20997\n",
       "1.0    15215\n",
       "X        373\n",
       "Name: CAMEO_DEUG_2015, dtype: int64"
      ]
     },
     "execution_count": 557,
     "metadata": {},
     "output_type": "execute_result"
    }
   ],
   "source": [
    "azdias.CAMEO_DEUG_2015.value_counts()"
   ]
  },
  {
   "cell_type": "code",
   "execution_count": 559,
   "metadata": {},
   "outputs": [
    {
     "data": {
      "text/plain": [
       "51      77576\n",
       "51.0    56118\n",
       "41      53459\n",
       "24      52882\n",
       "41.0    38877\n",
       "24.0    38276\n",
       "14      36524\n",
       "43      32730\n",
       "14.0    26360\n",
       "54      26207\n",
       "43.0    23942\n",
       "25      22837\n",
       "54.0    19184\n",
       "22      19173\n",
       "25.0    16791\n",
       "23      15653\n",
       "13      15272\n",
       "45      15206\n",
       "22.0    13982\n",
       "55      13842\n",
       "52      11836\n",
       "23.0    11097\n",
       "13.0    11064\n",
       "31      11041\n",
       "45.0    10926\n",
       "34      10737\n",
       "55.0    10113\n",
       "15       9832\n",
       "52.0     8706\n",
       "44       8543\n",
       "31.0     7983\n",
       "34.0     7787\n",
       "12       7645\n",
       "15.0     7142\n",
       "44.0     6277\n",
       "35       6090\n",
       "32       6067\n",
       "33       5833\n",
       "12.0     5604\n",
       "32.0     4287\n",
       "35.0     4266\n",
       "33.0     4102\n",
       "XX        373\n",
       "Name: CAMEO_INTL_2015, dtype: int64"
      ]
     },
     "execution_count": 559,
     "metadata": {},
     "output_type": "execute_result"
    }
   ],
   "source": [
    "azdias.CAMEO_INTL_2015.value_counts()"
   ]
  },
  {
   "cell_type": "markdown",
   "metadata": {},
   "source": [
    "This shows a problem with this table where there are same values that are different because of the type either int or fload"
   ]
  },
  {
   "cell_type": "code",
   "execution_count": 738,
   "metadata": {},
   "outputs": [],
   "source": [
    "# Let's fix it straightaway\n",
    "azdias['CAMEO_DEUG_2015'] = azdias['CAMEO_DEUG_2015'].replace({'X': np.nan})\n",
    "azdias['CAMEO_DEUG_2015'] = azdias['CAMEO_DEUG_2015'].astype(float)\n",
    "azdias['CAMEO_INTL_2015'] = azdias['CAMEO_INTL_2015'].replace({'XX':np.nan})\n",
    "azdias['CAMEO_INTL_2015'] = azdias['CAMEO_INTL_2015'].astype(float)\n"
   ]
  },
  {
   "cell_type": "markdown",
   "metadata": {},
   "source": [
    "So the values X and XX in these two tables are to be considered \"unknown\" and converted to null. So in our initial cleaning we will check the values of the documented features against the documentation ( the \"DIAS Attributes - Values 2017.xlsx\" file) and consider the ones that fall outside the reanges priveded as null.\n"
   ]
  },
  {
   "cell_type": "code",
   "execution_count": 739,
   "metadata": {},
   "outputs": [
    {
     "data": {
      "text/html": [
       "<div>\n",
       "<style scoped>\n",
       "    .dataframe tbody tr th:only-of-type {\n",
       "        vertical-align: middle;\n",
       "    }\n",
       "\n",
       "    .dataframe tbody tr th {\n",
       "        vertical-align: top;\n",
       "    }\n",
       "\n",
       "    .dataframe thead th {\n",
       "        text-align: right;\n",
       "    }\n",
       "</style>\n",
       "<table border=\"1\" class=\"dataframe\">\n",
       "  <thead>\n",
       "    <tr style=\"text-align: right;\">\n",
       "      <th></th>\n",
       "      <th>Attribute</th>\n",
       "      <th>Description</th>\n",
       "      <th>Value</th>\n",
       "      <th>Meaning</th>\n",
       "    </tr>\n",
       "  </thead>\n",
       "  <tbody>\n",
       "    <tr>\n",
       "      <th>51</th>\n",
       "      <td>CAMEO_DEUG_2015</td>\n",
       "      <td>CAMEO classification 2015 - Uppergroup</td>\n",
       "      <td>-1</td>\n",
       "      <td>unknown</td>\n",
       "    </tr>\n",
       "    <tr>\n",
       "      <th>52</th>\n",
       "      <td>CAMEO_DEUG_2015</td>\n",
       "      <td>CAMEO classification 2015 - Uppergroup</td>\n",
       "      <td>1</td>\n",
       "      <td>upper class</td>\n",
       "    </tr>\n",
       "    <tr>\n",
       "      <th>53</th>\n",
       "      <td>CAMEO_DEUG_2015</td>\n",
       "      <td>CAMEO classification 2015 - Uppergroup</td>\n",
       "      <td>2</td>\n",
       "      <td>upper middleclass</td>\n",
       "    </tr>\n",
       "    <tr>\n",
       "      <th>54</th>\n",
       "      <td>CAMEO_DEUG_2015</td>\n",
       "      <td>CAMEO classification 2015 - Uppergroup</td>\n",
       "      <td>3</td>\n",
       "      <td>established middleclasse</td>\n",
       "    </tr>\n",
       "    <tr>\n",
       "      <th>55</th>\n",
       "      <td>CAMEO_DEUG_2015</td>\n",
       "      <td>CAMEO classification 2015 - Uppergroup</td>\n",
       "      <td>4</td>\n",
       "      <td>consumption-oriented middleclass</td>\n",
       "    </tr>\n",
       "    <tr>\n",
       "      <th>56</th>\n",
       "      <td>CAMEO_DEUG_2015</td>\n",
       "      <td>CAMEO classification 2015 - Uppergroup</td>\n",
       "      <td>5</td>\n",
       "      <td>active middleclass</td>\n",
       "    </tr>\n",
       "    <tr>\n",
       "      <th>57</th>\n",
       "      <td>CAMEO_DEUG_2015</td>\n",
       "      <td>CAMEO classification 2015 - Uppergroup</td>\n",
       "      <td>6</td>\n",
       "      <td>low-consumption middleclass</td>\n",
       "    </tr>\n",
       "    <tr>\n",
       "      <th>58</th>\n",
       "      <td>CAMEO_DEUG_2015</td>\n",
       "      <td>CAMEO classification 2015 - Uppergroup</td>\n",
       "      <td>7</td>\n",
       "      <td>lower middleclass</td>\n",
       "    </tr>\n",
       "    <tr>\n",
       "      <th>59</th>\n",
       "      <td>CAMEO_DEUG_2015</td>\n",
       "      <td>CAMEO classification 2015 - Uppergroup</td>\n",
       "      <td>8</td>\n",
       "      <td>working class</td>\n",
       "    </tr>\n",
       "    <tr>\n",
       "      <th>60</th>\n",
       "      <td>CAMEO_DEUG_2015</td>\n",
       "      <td>CAMEO classification 2015 - Uppergroup</td>\n",
       "      <td>9</td>\n",
       "      <td>urban working class</td>\n",
       "    </tr>\n",
       "  </tbody>\n",
       "</table>\n",
       "</div>"
      ],
      "text/plain": [
       "          Attribute                             Description Value  \\\n",
       "51  CAMEO_DEUG_2015  CAMEO classification 2015 - Uppergroup    -1   \n",
       "52  CAMEO_DEUG_2015  CAMEO classification 2015 - Uppergroup     1   \n",
       "53  CAMEO_DEUG_2015  CAMEO classification 2015 - Uppergroup     2   \n",
       "54  CAMEO_DEUG_2015  CAMEO classification 2015 - Uppergroup     3   \n",
       "55  CAMEO_DEUG_2015  CAMEO classification 2015 - Uppergroup     4   \n",
       "56  CAMEO_DEUG_2015  CAMEO classification 2015 - Uppergroup     5   \n",
       "57  CAMEO_DEUG_2015  CAMEO classification 2015 - Uppergroup     6   \n",
       "58  CAMEO_DEUG_2015  CAMEO classification 2015 - Uppergroup     7   \n",
       "59  CAMEO_DEUG_2015  CAMEO classification 2015 - Uppergroup     8   \n",
       "60  CAMEO_DEUG_2015  CAMEO classification 2015 - Uppergroup     9   \n",
       "\n",
       "                              Meaning  \n",
       "51                            unknown  \n",
       "52                        upper class  \n",
       "53                  upper middleclass  \n",
       "54           established middleclasse  \n",
       "55  consumption-oriented middleclass   \n",
       "56                active middleclass   \n",
       "57        low-consumption middleclass  \n",
       "58                  lower middleclass  \n",
       "59                      working class  \n",
       "60                urban working class  "
      ]
     },
     "execution_count": 739,
     "metadata": {},
     "output_type": "execute_result"
    }
   ],
   "source": [
    "# Reading the features description excel file into a Dataframe\n",
    "feat_info = pd.read_excel('DIAS Attributes - Values 2017.xlsx', sheet_name='Tabelle1', index_col=[0, 1, 2]).reset_index()\n",
    "feat_info.drop('level_0', axis=1, inplace=True)\n",
    "feat_info_levels = pd.read_excel('DIAS Information Levels - Attributes 2017.xlsx', index_col=[0, 1]).reset_index()\n",
    "feat_info_levels.drop('level_0', axis=1, inplace=True) \n",
    "\n",
    "feat_info_levels.head()\n",
    "feat_info[feat_info.Attribute=='CAMEO_DEUG_2015']"
   ]
  },
  {
   "cell_type": "code",
   "execution_count": 740,
   "metadata": {},
   "outputs": [
    {
     "data": {
      "text/plain": [
       "(270, 96, 42)"
      ]
     },
     "execution_count": 740,
     "metadata": {},
     "output_type": "execute_result"
    }
   ],
   "source": [
    "# Turns out the feat_info dataset from the Excel spreadsheet has some columns that are not in the population dataset\n",
    "# and vicecersa, Let's explore a bit\n",
    "# These one are in the population and are described in the spreadsheet\n",
    "attributes_we_have_info_about = np.intersect1d(feat_info.Attribute.unique(), np.array(azdias.columns))\n",
    "# These one are in the population and are NOT described in the spreadsheet\n",
    "attributes_we_dont_have_info = np.setdiff1d(np.array(azdias.columns), feat_info.Attribute.unique())\n",
    "# These one are in the spreadsheet and are NOT in the population so we just ignore them for now\n",
    "attributes_we_dont_care = np.setdiff1d(feat_info.Attribute.unique(), np.array(azdias.columns))\n",
    "\n",
    "len(attributes_we_have_info_about), len(attributes_we_dont_have_info), len(attributes_we_dont_care)"
   ]
  },
  {
   "cell_type": "code",
   "execution_count": 648,
   "metadata": {},
   "outputs": [],
   "source": [
    "# we can build a dataframe with atributes and type plus description of unknown values \n",
    "unknown_values = ['unknown', 'unknown / no main age detectable', 'no transactions known', 'numeric value (typically coded from 1-10)',\n",
    "                 'numeric value (typically coded from 1-3)', 'no transaction known']\n",
    "azdias_info =  feat_info[(feat_info.Attribute.isin(attributes_we_have_info_about)) & (feat_info.Meaning.isin(unknown_values))]\n",
    "# Add the ones who don't have unknown values\n",
    "\n",
    "# Add columns that are in the excel spreadhseet but don't have a \"unkmown value\"\n",
    "for feat in np.setdiff1d(feat_info.Attribute[attributes_we_have_info_about].index, dias_info.Attribute):\n",
    "    azdias_info = dias_info.append(feat_info[feat_info.Attribute == feat].iloc[0,:2])\n",
    "\n",
    "# Finally add columns missing if the excel spreadsheet\n",
    "azdias_info = pd.concat([dias_info, pd.DataFrame(np.setdiff1d(azdias.columns.values, dias_info.Attribute), columns=['Attribute'])], sort=False, axis=0)\n",
    "\n",
    "# Adding a Type column initially setting everything to 'Ordinal' \n",
    "azdias_info['Type'] = 'Ordinal'\n",
    "azdias_info.to_csv('azdias_info.csv')"
   ]
  },
  {
   "cell_type": "code",
   "execution_count": 741,
   "metadata": {},
   "outputs": [
    {
     "data": {
      "text/html": [
       "<div>\n",
       "<style scoped>\n",
       "    .dataframe tbody tr th:only-of-type {\n",
       "        vertical-align: middle;\n",
       "    }\n",
       "\n",
       "    .dataframe tbody tr th {\n",
       "        vertical-align: top;\n",
       "    }\n",
       "\n",
       "    .dataframe thead th {\n",
       "        text-align: right;\n",
       "    }\n",
       "</style>\n",
       "<table border=\"1\" class=\"dataframe\">\n",
       "  <thead>\n",
       "    <tr style=\"text-align: right;\">\n",
       "      <th></th>\n",
       "      <th>Attribute</th>\n",
       "      <th>Description</th>\n",
       "      <th>Meaning</th>\n",
       "      <th>Value</th>\n",
       "      <th>Type</th>\n",
       "      <th>Notes</th>\n",
       "    </tr>\n",
       "  </thead>\n",
       "  <tbody>\n",
       "    <tr>\n",
       "      <th>0</th>\n",
       "      <td>AGER_TYP</td>\n",
       "      <td>best-ager typology</td>\n",
       "      <td>unknown</td>\n",
       "      <td>-1</td>\n",
       "      <td>Ordinal</td>\n",
       "      <td>NaN</td>\n",
       "    </tr>\n",
       "    <tr>\n",
       "      <th>5</th>\n",
       "      <td>ALTERSKATEGORIE_GROB</td>\n",
       "      <td>age classification through prename analysis</td>\n",
       "      <td>unknown</td>\n",
       "      <td>-1, 0</td>\n",
       "      <td>Ordinal</td>\n",
       "      <td>NaN</td>\n",
       "    </tr>\n",
       "    <tr>\n",
       "      <th>11</th>\n",
       "      <td>ALTER_HH</td>\n",
       "      <td>main age within the household</td>\n",
       "      <td>unknown / no main age detectable</td>\n",
       "      <td>0</td>\n",
       "      <td>Ordinal</td>\n",
       "      <td>NaN</td>\n",
       "    </tr>\n",
       "    <tr>\n",
       "      <th>33</th>\n",
       "      <td>ANREDE_KZ</td>\n",
       "      <td>gender</td>\n",
       "      <td>unknown</td>\n",
       "      <td>-1, 0</td>\n",
       "      <td>Binary</td>\n",
       "      <td>NaN</td>\n",
       "    </tr>\n",
       "    <tr>\n",
       "      <th>36</th>\n",
       "      <td>ANZ_HAUSHALTE_AKTIV</td>\n",
       "      <td>number of households in the building</td>\n",
       "      <td>numeric value (typically coded from 1-10)</td>\n",
       "      <td>0</td>\n",
       "      <td>Numeric</td>\n",
       "      <td>NaN</td>\n",
       "    </tr>\n",
       "  </tbody>\n",
       "</table>\n",
       "</div>"
      ],
      "text/plain": [
       "               Attribute                                   Description  \\\n",
       "0               AGER_TYP                            best-ager typology   \n",
       "5   ALTERSKATEGORIE_GROB  age classification through prename analysis    \n",
       "11              ALTER_HH                 main age within the household   \n",
       "33             ANREDE_KZ                                        gender   \n",
       "36   ANZ_HAUSHALTE_AKTIV          number of households in the building   \n",
       "\n",
       "                                      Meaning  Value     Type Notes  \n",
       "0                                     unknown     -1  Ordinal   NaN  \n",
       "5                                     unknown  -1, 0  Ordinal   NaN  \n",
       "11           unknown / no main age detectable      0  Ordinal   NaN  \n",
       "33                                    unknown  -1, 0   Binary   NaN  \n",
       "36  numeric value (typically coded from 1-10)      0  Numeric   NaN  "
      ]
     },
     "execution_count": 741,
     "metadata": {},
     "output_type": "execute_result"
    }
   ],
   "source": [
    "# Reload file after working on in in Excel\n",
    "azdias_info = pd.read_csv('azdias_info_reload.csv', index_col=[0])\n",
    "\n",
    "azdias_info.head()\n",
    "#azdias_info.Type.value_counts()"
   ]
  },
  {
   "cell_type": "markdown",
   "metadata": {},
   "source": [
    "So we will start handling the features that are documented for now and run some cleaning scripts, then we will explore the undocumented ones and decide what to do with them."
   ]
  },
  {
   "cell_type": "code",
   "execution_count": 742,
   "metadata": {},
   "outputs": [],
   "source": [
    "# Check values for a random feature\n",
    "# split a string is a string otherwise return unchanged\n",
    "def split_if_string(x):\n",
    "    if isinstance(x, str):\n",
    "        return x.split(',')\n",
    "    else:\n",
    "        return x\n",
    "# Change ints into floats in a list and leave anything else unchanged\n",
    "def to_float(x):\n",
    "    try:\n",
    "        x = float(x)\n",
    "    except:\n",
    "        pass\n",
    "    return x\n",
    "\n",
    "def is_number(s):\n",
    "    try:\n",
    "        float(s)\n",
    "        return True\n",
    "    except ValueError:\n",
    "        return False"
   ]
  },
  {
   "cell_type": "code",
   "execution_count": 743,
   "metadata": {},
   "outputs": [
    {
     "name": "stdout",
     "output_type": "stream",
     "text": [
      "Attribute CAMEO_DEU_2015 has undocumented values ['XX']\n",
      "Attribute KBA05_MODTEMP has undocumented values [6.]\n",
      "Attribute LP_FAMILIE_FEIN has undocumented values [0.]\n",
      "Attribute LP_FAMILIE_GROB has undocumented values [0.]\n",
      "Attribute LP_LEBENSPHASE_FEIN has undocumented values [0.]\n",
      "Attribute LP_LEBENSPHASE_GROB has undocumented values [0.]\n",
      "Attribute ORTSGR_KLS9 has undocumented values [0.]\n"
     ]
    }
   ],
   "source": [
    "# Now we will look for \"undocumented\" null values, that are not included in the spreadsheet\n",
    "\n",
    "attributes_to_check = np.setdiff1d(attributes_we_have_info_about, numerical_features)\n",
    "\n",
    "# Better align values first as it is taking as different int and floats\n",
    "\n",
    "def check_all_values(df, feat_info):\n",
    "    for attribute in attributes_to_check:\n",
    "        theoretical_vals = feat_info[feat_info.Attribute == attribute].Value.apply(lambda x: split_if_string(x)).values\n",
    "        theoretical_vals = np.hstack(theoretical_vals)\n",
    "        theoretical_vals = [to_float(x) for x in theoretical_vals]\n",
    "        actual_values = df.loc[:, attribute].value_counts().index.values\n",
    "        actual_values = [to_float(x) for x in actual_values]\n",
    "        #diff = set(actual_values) - set(theoretical_vals)\n",
    "        diff = np.setdiff1d(actual_values, theoretical_vals)\n",
    "        if diff.size > 0:\n",
    "            print('Attribute {} has undocumented values {}'.format(attribute, diff))\n",
    "\n",
    "            \n",
    "check_all_values(azdias, feat_info)"
   ]
  },
  {
   "cell_type": "markdown",
   "metadata": {},
   "source": [
    "So here we have:\n",
    "\n",
    "CAMEO_DEU_2015: most common building-type within the cell => XX is a null\n",
    "\n",
    "KBA05_MODTEMP: development of the most common car segment in the neighbourhood: we keep 6.0 although it's not documented\n",
    "\n",
    "LP_FAMILIE_FEIN: familytyp fine: 0 is a null, must be between 1 to 11\n",
    "\n",
    "LP_FAMILIE_GROB familytyp rough, must be 1 to 11, so 0 is a null\n",
    "\n",
    "LP_LEBENSPHASE_FEIN: lifestage fine, must be 1 to 40, so 0 is a null\n",
    "\n",
    "LP_LEBENSPHASE_GROB: lifestage rough, must be 1 to 12, so 0 is  a null\n",
    "\n",
    "ORTSGR_KLS9: size of the community, 1 to 9, so 0 is a null\n"
   ]
  },
  {
   "cell_type": "code",
   "execution_count": 744,
   "metadata": {},
   "outputs": [],
   "source": [
    "# we can fix those above\n",
    "def fix_undocumented_nulls(df):\n",
    "    dxx = {'XX':np.nan}\n",
    "    d0 = {0:np.nan}\n",
    "    df['CAMEO_DEU_2015'] = df['CAMEO_DEU_2015'].replace(dxx)\n",
    "    df['LP_FAMILIE_FEIN'] = df['LP_FAMILIE_FEIN'].replace(d0)\n",
    "    df['LP_FAMILIE_GROB'] = df['LP_FAMILIE_GROB'].replace(d0)\n",
    "    df['LP_LEBENSPHASE_FEIN'] = df['LP_LEBENSPHASE_FEIN'].replace(d0)\n",
    "    df['LP_LEBENSPHASE_GROB'] = df['LP_LEBENSPHASE_GROB'].replace(d0)\n",
    "    df['ORTSGR_KLS9'] = df['ORTSGR_KLS9'].replace(d0)\n",
    "    return df\n",
    "azdias =  fix_undocumented_nulls(azdias)"
   ]
  },
  {
   "cell_type": "code",
   "execution_count": 613,
   "metadata": {},
   "outputs": [
    {
     "data": {
      "text/html": [
       "<div>\n",
       "<style scoped>\n",
       "    .dataframe tbody tr th:only-of-type {\n",
       "        vertical-align: middle;\n",
       "    }\n",
       "\n",
       "    .dataframe tbody tr th {\n",
       "        vertical-align: top;\n",
       "    }\n",
       "\n",
       "    .dataframe thead th {\n",
       "        text-align: right;\n",
       "    }\n",
       "</style>\n",
       "<table border=\"1\" class=\"dataframe\">\n",
       "  <thead>\n",
       "    <tr style=\"text-align: right;\">\n",
       "      <th></th>\n",
       "      <th>Attribute</th>\n",
       "      <th>Description</th>\n",
       "      <th>Meaning</th>\n",
       "      <th>Value</th>\n",
       "      <th>Type</th>\n",
       "      <th>Notes</th>\n",
       "    </tr>\n",
       "  </thead>\n",
       "  <tbody>\n",
       "    <tr>\n",
       "      <th>39</th>\n",
       "      <td>ANZ_TITEL</td>\n",
       "      <td>number of professional title holder in household</td>\n",
       "      <td>numeric value (typically coded from 1-10)</td>\n",
       "      <td>NaN</td>\n",
       "      <td>Numeric</td>\n",
       "      <td>NaN</td>\n",
       "    </tr>\n",
       "  </tbody>\n",
       "</table>\n",
       "</div>"
      ],
      "text/plain": [
       "    Attribute                                        Description  \\\n",
       "39  ANZ_TITEL  number of professional title holder in household    \n",
       "\n",
       "                                      Meaning Value     Type Notes  \n",
       "39  numeric value (typically coded from 1-10)   NaN  Numeric   NaN  "
      ]
     },
     "execution_count": 613,
     "metadata": {},
     "output_type": "execute_result"
    }
   ],
   "source": []
  },
  {
   "cell_type": "markdown",
   "metadata": {},
   "source": [
    "Now we will use the dataframe we built with the nformation of whoch values cam be considered null to replace the unlknown values with null.\n",
    "We leave the features that have a value equal to zero with Meaning \"no transaction known\"as they represent transactional activity over a period, so we interpret is as \"zero transactions\".\n"
   ]
  },
  {
   "cell_type": "code",
   "execution_count": 745,
   "metadata": {},
   "outputs": [
    {
     "name": "stderr",
     "output_type": "stream",
     "text": [
      "[========================================================================] 100%\n"
     ]
    }
   ],
   "source": [
    "# Now let's convert the other nulls\n",
    "#azdias_info.head()\n",
    "import progressbar\n",
    "\n",
    "def unknown2nulls(df, df_info):\n",
    "    \"\"\"\"\"\"\n",
    "    \n",
    "    n_iters = df_info.shape[0]\n",
    "    cnter = 0\n",
    "    bar = progressbar.ProgressBar(maxval=n_iters+1, widgets=[progressbar.Bar('=', '[', ']'), ' ', progressbar.Percentage()])\n",
    "    bar.start()\n",
    "    \n",
    "    for _, info_row in df_info[df_info.Value.notnull()].iterrows():\n",
    "        #print('Replacing ', info_row.Attribute)\n",
    "        if isinstance(info_row.Value, str):\n",
    "            d = {}\n",
    "            for unknown_value in info_row.Value.split(','):\n",
    "                d[float(unknown_value)] = np.nan\n",
    "            df[info_row.Attribute] = df[info_row.Attribute].replace(d)\n",
    "        else:\n",
    "            d = {info_row.Value : np.nan}\n",
    "            df[info_row.Attribute] = df[info_row.Attribute].replace(d)\n",
    "        cnter+=1 \n",
    "        bar.update(cnter)\n",
    "    \n",
    "    bar.finish()            \n",
    "    return df\n",
    "\n",
    "azdias = unknown2nulls(azdias, azdias_info)"
   ]
  },
  {
   "cell_type": "code",
   "execution_count": 614,
   "metadata": {},
   "outputs": [],
   "source": []
  },
  {
   "cell_type": "code",
   "execution_count": 296,
   "metadata": {},
   "outputs": [],
   "source": []
  },
  {
   "cell_type": "code",
   "execution_count": 746,
   "metadata": {},
   "outputs": [],
   "source": [
    "# Now we can save it\n",
    "azdias.to_feather('azdias_nulls.feather')"
   ]
  },
  {
   "cell_type": "markdown",
   "metadata": {},
   "source": [
    "### Choosing columns to drop\n",
    "We will analyze the amount of missing data and choose which columns to drop.\n",
    "Additionally some columns may be dropped for tyher reasons, for example:\n",
    "- if they have unique values\n",
    "- if they are categorical values with too many different values, for example more than 10 categories\n",
    "- when we don't have enough information to decide how to encode them\n",
    "- features that are a possible source of ethical bias"
   ]
  },
  {
   "cell_type": "code",
   "execution_count": 658,
   "metadata": {},
   "outputs": [
    {
     "name": "stderr",
     "output_type": "stream",
     "text": [
      "/Users/maurizio/anaconda3/lib/python3.6/site-packages/pandas/io/feather_format.py:112: FutureWarning: `nthreads` argument is deprecated, pass `use_threads` instead\n",
      "  return feather.read_dataframe(path, nthreads=nthreads)\n"
     ]
    }
   ],
   "source": [
    "azdias = pd.read_feather('azdias_nulls.feather', nthreads=2)"
   ]
  },
  {
   "cell_type": "code",
   "execution_count": 747,
   "metadata": {},
   "outputs": [
    {
     "data": {
      "image/png": "[encoded data removed]",
      "text/plain": [
       "<Figure size 432x288 with 1 Axes>"
      ]
     },
     "metadata": {},
     "output_type": "display_data"
    }
   ],
   "source": [
    "# Assess missing data in columns\n",
    "plt.hist(azdias.isnull().sum(), bins=20)\n",
    "plt.title('Distributions of null values in the Demographics')\n",
    "plt.xlabel('# Null Values')\n",
    "plt.ylabel('Columns');"
   ]
  },
  {
   "cell_type": "code",
   "execution_count": 749,
   "metadata": {},
   "outputs": [],
   "source": [
    "# Investigate patterns in the amount of missing data in each column.\n",
    "columns = azdias.isnull().sum().sort_values(ascending=False)\n",
    "#[(columns, nulls) for columns, nulls in columns.items() if nulls > 0]\n"
   ]
  },
  {
   "cell_type": "code",
   "execution_count": 750,
   "metadata": {},
   "outputs": [
    {
     "data": {
      "text/plain": [
       "Text(0.5,1,'Attributes with more than 30% of missing values')"
      ]
     },
     "execution_count": 750,
     "metadata": {},
     "output_type": "execute_result"
    },
    {
     "data": {
      "image/png": "[encoded data removed]",
      "text/plain": [
       "<Figure size 360x1080 with 1 Axes>"
      ]
     },
     "metadata": {},
     "output_type": "display_data"
    }
   ],
   "source": [
    "percent_missing = columns/azdias.shape[0]\n",
    "data = percent_missing[percent_missing > 0.3]\n",
    "plt.figure(figsize=(5,15))\n",
    "sns.barplot(y=data.index, x=data.values, orient='h', color='blue')\n",
    "plt.title(\"Attributes with more than 30% of missing values\")"
   ]
  },
  {
   "cell_type": "code",
   "execution_count": 751,
   "metadata": {},
   "outputs": [
    {
     "name": "stdout",
     "output_type": "stream",
     "text": [
      "71\n"
     ]
    }
   ],
   "source": [
    "#The distribution above shows that some outlier features have more thn 250000 null values. \n",
    "# Since we will run this script on the customer data set as well, we will use a % of the whole dataset =>28%\n",
    "# Considering the dataset has 891221 data points, we can select those ones candidates features to be dropped\n",
    "columns_to_drop = [s for s, v in (azdias.isnull().sum() > azdias.shape[0] * 0.3).items() if v]\n",
    "\n",
    "azdias.drop(columns_to_drop, axis=1, inplace=True)\n",
    "print(\"Dropped {} columns.\".format(len(columns_to_drop)))"
   ]
  },
  {
   "cell_type": "markdown",
   "metadata": {},
   "source": [
    "Column with unique values"
   ]
  },
  {
   "cell_type": "code",
   "execution_count": 662,
   "metadata": {},
   "outputs": [
    {
     "data": {
      "text/plain": [
       "(891221,)"
      ]
     },
     "execution_count": 662,
     "metadata": {},
     "output_type": "execute_result"
    }
   ],
   "source": [
    "# Columns with unique values, doesn't give any information\n",
    "azdias.LNR.value_counts().shape"
   ]
  },
  {
   "cell_type": "code",
   "execution_count": 752,
   "metadata": {},
   "outputs": [],
   "source": [
    "# So we will drop it\n",
    "azdias.drop('LNR', axis=1, inplace=True)"
   ]
  },
  {
   "cell_type": "markdown",
   "metadata": {},
   "source": [
    "Features that are a possible source of ethical bias"
   ]
  },
  {
   "cell_type": "code",
   "execution_count": 753,
   "metadata": {},
   "outputs": [],
   "source": [
    "# NATIONALITAET_KZ: possible source of ethical bias\n",
    "azdias.drop('NATIONALITAET_KZ', axis=1, inplace=True)"
   ]
  },
  {
   "cell_type": "code",
   "execution_count": 754,
   "metadata": {},
   "outputs": [],
   "source": [
    "# ALTERSKATEGORIE_FEIN and ALTERSKATEGORIE_GROB (age through prename analysis have different number of nulls, \n",
    "# in particular ALTERSKATEGORIE_FEIN has 262947 nulls so we prefer to drop it and keep the summary information)\n",
    "azdias.drop('ALTERSKATEGORIE_FEIN', axis=1, inplace=True)"
   ]
  },
  {
   "cell_type": "markdown",
   "metadata": {},
   "source": [
    "Exploring Categiorical Features with Multi-values"
   ]
  },
  {
   "cell_type": "code",
   "execution_count": null,
   "metadata": {},
   "outputs": [],
   "source": []
  },
  {
   "cell_type": "code",
   "execution_count": 755,
   "metadata": {},
   "outputs": [
    {
     "name": "stdout",
     "output_type": "stream",
     "text": [
      "Feature CAMEO_DEU_2015 has 44 categories\n",
      "Feature D19_LETZTER_KAUF_BRANCHE has 35 categories\n",
      "Feature EINGEFUEGT_AM has 5162 categories\n",
      "Feature LP_LEBENSPHASE_FEIN has 40 categories\n",
      "Feature VERDICHTUNGSRAUM has 46 categories\n"
     ]
    }
   ],
   "source": [
    "# Let's have a look at the other categorical features (the ones who are left)\n",
    "categorical_features = np.intersect1d(azdias_info[azdias_info.Type=='Categorical'].Attribute.values, azdias.columns.values)\n",
    "categorical_to_drop = []\n",
    "for categ in categorical_features:\n",
    "    num_categs = azdias[categ].value_counts().shape[0]\n",
    "    if num_categs > 15:\n",
    "        print(\"Feature {} has {} categories\".format(categ, num_categs))\n",
    "        categorical_to_drop.append(categ)\n",
    "\n",
    "azdias.drop(categorical_to_drop, axis=1, inplace=True)\n",
    "\n",
    "# We cam drop these features abd one-hot encode the other ones    "
   ]
  },
  {
   "cell_type": "markdown",
   "metadata": {},
   "source": [
    "### Missing Data in rows"
   ]
  },
  {
   "cell_type": "code",
   "execution_count": 756,
   "metadata": {},
   "outputs": [
    {
     "data": {
      "text/plain": [
       "Text(0,0.5,'Rows')"
      ]
     },
     "execution_count": 756,
     "metadata": {},
     "output_type": "execute_result"
    },
    {
     "data": {
      "image/png": "[encoded data removed]",
      "text/plain": [
       "<Figure size 432x288 with 1 Axes>"
      ]
     },
     "metadata": {},
     "output_type": "display_data"
    }
   ],
   "source": [
    "# How much data is missing in each row of the dataset?\n",
    "plt.hist(azdias.isnull().sum(axis=1), bins=40)\n",
    "plt.title('Distributions of null values in the rows Demographics')\n",
    "plt.xlabel('# Null Values')\n",
    "plt.ylabel('Rows')"
   ]
  },
  {
   "cell_type": "code",
   "execution_count": 758,
   "metadata": {},
   "outputs": [],
   "source": [
    "# We can see that the large majority of the population has less than 50 null fatures.\n",
    "# we can remove the datapoints with more than 50 nulls in each row\n",
    "azdias.dropna(thresh=azdias.shape[1] - 50, inplace=True)"
   ]
  },
  {
   "cell_type": "code",
   "execution_count": 759,
   "metadata": {},
   "outputs": [
    {
     "data": {
      "text/plain": [
       "Text(0,0.5,'Rows')"
      ]
     },
     "execution_count": 759,
     "metadata": {},
     "output_type": "execute_result"
    },
    {
     "data": {
      "image/png": "[encoded data removed]",
      "text/plain": [
       "<Figure size 432x288 with 1 Axes>"
      ]
     },
     "metadata": {},
     "output_type": "display_data"
    }
   ],
   "source": [
    "# How much data is missing in each row of the dataset?\n",
    "plt.hist(azdias.isnull().sum(axis=1), bins=40)\n",
    "plt.title('Distributions of null values in the rows Demographics')\n",
    "plt.xlabel('# Null Values')\n",
    "plt.ylabel('Rows')"
   ]
  },
  {
   "cell_type": "code",
   "execution_count": 667,
   "metadata": {},
   "outputs": [],
   "source": []
  },
  {
   "cell_type": "code",
   "execution_count": 760,
   "metadata": {},
   "outputs": [],
   "source": [
    "# Saving\n",
    "azdias = azdias.reset_index()\n",
    "del azdias['index']\n",
    "azdias.to_feather('azdias_cols_dropped.feather')"
   ]
  },
  {
   "cell_type": "code",
   "execution_count": 23,
   "metadata": {},
   "outputs": [
    {
     "name": "stderr",
     "output_type": "stream",
     "text": [
      "/Users/maurizio/anaconda3/lib/python3.6/site-packages/pandas/io/feather_format.py:112: FutureWarning: `nthreads` argument is deprecated, pass `use_threads` instead\n",
      "  return feather.read_dataframe(path, nthreads=nthreads)\n"
     ]
    }
   ],
   "source": []
  },
  {
   "cell_type": "code",
   "execution_count": 761,
   "metadata": {},
   "outputs": [
    {
     "data": {
      "text/plain": [
       "(737288, 287)"
      ]
     },
     "execution_count": 761,
     "metadata": {},
     "output_type": "execute_result"
    }
   ],
   "source": [
    "# Let's see how many rows, columns we are left with\n",
    "azdias.shape"
   ]
  },
  {
   "cell_type": "markdown",
   "metadata": {},
   "source": [
    "### Features Re-encoding\n",
    "Some categorical features need re-encoding. We will look at the spreadsheet to choose which ones to re-encode.\n",
    "Since the unsupervised learning techniques to be used will only work on data that is encoded numerically, we need to make a few encoding changes or additional assumptions to be able to make progress. In addition, while almost all of the values in the dataset are encoded using numbers, not all of them represent numeric values.\n",
    "\n",
    "- For numeric and interval data, these features can be kept without changes.\n",
    "- Most of the variables in the dataset are ordinal in nature. While ordinal values may technically be non-linear in spacing, we make the simplifying assumption that the ordinal variables can be treated as being interval in nature (that is, kept without any changes).\n",
    "- Special handling will be necessary for the remaining two variable types: categorical, and 'mixed'.\n",
    "\n",
    "Are there binary categorical features that need re-encoding?\n",
    "Are there multi-level categorical features that need re-encoding?\n"
   ]
  },
  {
   "cell_type": "code",
   "execution_count": 696,
   "metadata": {},
   "outputs": [
    {
     "name": "stderr",
     "output_type": "stream",
     "text": [
      "/Users/maurizio/anaconda3/lib/python3.6/site-packages/pandas/io/feather_format.py:112: FutureWarning: `nthreads` argument is deprecated, pass `use_threads` instead\n",
      "  return feather.read_dataframe(path, nthreads=nthreads)\n"
     ]
    }
   ],
   "source": [
    "azdias = pd.read_feather('azdias_cols_dropped.feather', nthreads=2)"
   ]
  },
  {
   "cell_type": "code",
   "execution_count": 762,
   "metadata": {},
   "outputs": [],
   "source": [
    "# Binary categorical features\n",
    "# OST_WEST_KZ: flag indicating the former GDR/FRG\n",
    "#azdias['OST_WEST_KZ'].value_counts()\n",
    "\n",
    "ost_west_dict = {'OST_WEST_KZ': {'W':0, 'O':1}}\n",
    "azdias.replace(ost_west_dict, inplace=True)"
   ]
  },
  {
   "cell_type": "markdown",
   "metadata": {},
   "source": [
    "Multi-level categoricals (three or more values) will be one-hot encoded using multiple dummy variables."
   ]
  },
  {
   "cell_type": "code",
   "execution_count": null,
   "metadata": {},
   "outputs": [],
   "source": [
    "#azdias = pd.read_feather('azdias_cols_dropped', nthreads=2)"
   ]
  },
  {
   "cell_type": "code",
   "execution_count": 763,
   "metadata": {},
   "outputs": [
    {
     "data": {
      "text/html": [
       "<div>\n",
       "<style scoped>\n",
       "    .dataframe tbody tr th:only-of-type {\n",
       "        vertical-align: middle;\n",
       "    }\n",
       "\n",
       "    .dataframe tbody tr th {\n",
       "        vertical-align: top;\n",
       "    }\n",
       "\n",
       "    .dataframe thead th {\n",
       "        text-align: right;\n",
       "    }\n",
       "</style>\n",
       "<table border=\"1\" class=\"dataframe\">\n",
       "  <thead>\n",
       "    <tr style=\"text-align: right;\">\n",
       "      <th></th>\n",
       "      <th>Attribute</th>\n",
       "      <th>Description</th>\n",
       "      <th>Meaning</th>\n",
       "      <th>Value</th>\n",
       "      <th>Type</th>\n",
       "      <th>Notes</th>\n",
       "    </tr>\n",
       "  </thead>\n",
       "  <tbody>\n",
       "    <tr>\n",
       "      <th>51</th>\n",
       "      <td>CAMEO_DEUG_2015</td>\n",
       "      <td>CAMEO classification 2015 - Uppergroup</td>\n",
       "      <td>unknown</td>\n",
       "      <td>-1</td>\n",
       "      <td>Categorical</td>\n",
       "      <td>NaN</td>\n",
       "    </tr>\n",
       "    <tr>\n",
       "      <th>131</th>\n",
       "      <td>CJT_GESAMTTYP</td>\n",
       "      <td>customer journey typology</td>\n",
       "      <td>unknown</td>\n",
       "      <td>0</td>\n",
       "      <td>Categorical</td>\n",
       "      <td>NaN</td>\n",
       "    </tr>\n",
       "    <tr>\n",
       "      <th>654</th>\n",
       "      <td>FINANZTYP</td>\n",
       "      <td>best descirbing financial type for the person</td>\n",
       "      <td>unknown</td>\n",
       "      <td>-1</td>\n",
       "      <td>Categorical</td>\n",
       "      <td>NaN</td>\n",
       "    </tr>\n",
       "    <tr>\n",
       "      <th>697</th>\n",
       "      <td>GEBAEUDETYP</td>\n",
       "      <td>type of building (residential or commercial)</td>\n",
       "      <td>unknown</td>\n",
       "      <td>-1, 0</td>\n",
       "      <td>Categorical</td>\n",
       "      <td>NaN</td>\n",
       "    </tr>\n",
       "    <tr>\n",
       "      <th>744</th>\n",
       "      <td>HEALTH_TYP</td>\n",
       "      <td>health typology</td>\n",
       "      <td>unknown</td>\n",
       "      <td>-1</td>\n",
       "      <td>Categorical</td>\n",
       "      <td>NaN</td>\n",
       "    </tr>\n",
       "    <tr>\n",
       "      <th>2070</th>\n",
       "      <td>REGIOTYP</td>\n",
       "      <td>neighbourhood</td>\n",
       "      <td>unknown</td>\n",
       "      <td>-1, 0</td>\n",
       "      <td>Categorical</td>\n",
       "      <td>NaN</td>\n",
       "    </tr>\n",
       "    <tr>\n",
       "      <th>2084</th>\n",
       "      <td>RETOURTYP_BK_S</td>\n",
       "      <td>return type</td>\n",
       "      <td>unknown</td>\n",
       "      <td>0</td>\n",
       "      <td>Categorical</td>\n",
       "      <td>NaN</td>\n",
       "    </tr>\n",
       "    <tr>\n",
       "      <th>2202</th>\n",
       "      <td>SHOPPER_TYP</td>\n",
       "      <td>shopping typology</td>\n",
       "      <td>unknown</td>\n",
       "      <td>-1</td>\n",
       "      <td>Categorical</td>\n",
       "      <td>NaN</td>\n",
       "    </tr>\n",
       "    <tr>\n",
       "      <th>2229</th>\n",
       "      <td>WOHNLAGE</td>\n",
       "      <td>residential-area</td>\n",
       "      <td>unknown</td>\n",
       "      <td>-1</td>\n",
       "      <td>Categorical</td>\n",
       "      <td>NaN</td>\n",
       "    </tr>\n",
       "    <tr>\n",
       "      <th>2251</th>\n",
       "      <td>ZABEOTYP</td>\n",
       "      <td>typification of energy consumers</td>\n",
       "      <td>unknown</td>\n",
       "      <td>-1, 9</td>\n",
       "      <td>Categorical</td>\n",
       "      <td>NaN</td>\n",
       "    </tr>\n",
       "    <tr>\n",
       "      <th>706</th>\n",
       "      <td>GEBAEUDETYP_RASTER</td>\n",
       "      <td>industrial areas</td>\n",
       "      <td>NaN</td>\n",
       "      <td>NaN</td>\n",
       "      <td>Categorical</td>\n",
       "      <td>NaN</td>\n",
       "    </tr>\n",
       "    <tr>\n",
       "      <th>712</th>\n",
       "      <td>GFK_URLAUBERTYP</td>\n",
       "      <td>vacation habits</td>\n",
       "      <td>NaN</td>\n",
       "      <td>NaN</td>\n",
       "      <td>Categorical</td>\n",
       "      <td>NaN</td>\n",
       "    </tr>\n",
       "    <tr>\n",
       "      <th>1892</th>\n",
       "      <td>LP_FAMILIE_FEIN</td>\n",
       "      <td>familytyp fine</td>\n",
       "      <td>NaN</td>\n",
       "      <td>NaN</td>\n",
       "      <td>Categorical</td>\n",
       "      <td>NaN</td>\n",
       "    </tr>\n",
       "    <tr>\n",
       "      <th>1903</th>\n",
       "      <td>LP_FAMILIE_GROB</td>\n",
       "      <td>familytyp rough</td>\n",
       "      <td>NaN</td>\n",
       "      <td>NaN</td>\n",
       "      <td>Categorical</td>\n",
       "      <td>To regroup or drop</td>\n",
       "    </tr>\n",
       "    <tr>\n",
       "      <th>1954</th>\n",
       "      <td>LP_LEBENSPHASE_GROB</td>\n",
       "      <td>lifestage rough</td>\n",
       "      <td>NaN</td>\n",
       "      <td>NaN</td>\n",
       "      <td>Categorical</td>\n",
       "      <td>NaN</td>\n",
       "    </tr>\n",
       "    <tr>\n",
       "      <th>65</th>\n",
       "      <td>GEMEINDETYP</td>\n",
       "      <td>NaN</td>\n",
       "      <td>NaN</td>\n",
       "      <td>NaN</td>\n",
       "      <td>Categorical</td>\n",
       "      <td>NaN</td>\n",
       "    </tr>\n",
       "    <tr>\n",
       "      <th>93</th>\n",
       "      <td>VK_DHT4A</td>\n",
       "      <td>NaN</td>\n",
       "      <td>NaN</td>\n",
       "      <td>NaN</td>\n",
       "      <td>Categorical</td>\n",
       "      <td>NaN</td>\n",
       "    </tr>\n",
       "  </tbody>\n",
       "</table>\n",
       "</div>"
      ],
      "text/plain": [
       "                Attribute                                    Description  \\\n",
       "51        CAMEO_DEUG_2015         CAMEO classification 2015 - Uppergroup   \n",
       "131         CJT_GESAMTTYP                      customer journey typology   \n",
       "654             FINANZTYP  best descirbing financial type for the person   \n",
       "697           GEBAEUDETYP   type of building (residential or commercial)   \n",
       "744            HEALTH_TYP                                health typology   \n",
       "2070             REGIOTYP                                 neighbourhood    \n",
       "2084       RETOURTYP_BK_S                                    return type   \n",
       "2202          SHOPPER_TYP                              shopping typology   \n",
       "2229             WOHNLAGE                              residential-area    \n",
       "2251             ZABEOTYP               typification of energy consumers   \n",
       "706    GEBAEUDETYP_RASTER                               industrial areas   \n",
       "712       GFK_URLAUBERTYP                                vacation habits   \n",
       "1892      LP_FAMILIE_FEIN                                 familytyp fine   \n",
       "1903      LP_FAMILIE_GROB                                familytyp rough   \n",
       "1954  LP_LEBENSPHASE_GROB                                lifestage rough   \n",
       "65            GEMEINDETYP                                            NaN   \n",
       "93               VK_DHT4A                                            NaN   \n",
       "\n",
       "      Meaning  Value         Type               Notes  \n",
       "51    unknown     -1  Categorical                 NaN  \n",
       "131   unknown      0  Categorical                 NaN  \n",
       "654   unknown     -1  Categorical                 NaN  \n",
       "697   unknown  -1, 0  Categorical                 NaN  \n",
       "744   unknown     -1  Categorical                 NaN  \n",
       "2070  unknown  -1, 0  Categorical                 NaN  \n",
       "2084  unknown      0  Categorical                 NaN  \n",
       "2202  unknown     -1  Categorical                 NaN  \n",
       "2229  unknown     -1  Categorical                 NaN  \n",
       "2251  unknown  -1, 9  Categorical                 NaN  \n",
       "706       NaN    NaN  Categorical                 NaN  \n",
       "712       NaN    NaN  Categorical                 NaN  \n",
       "1892      NaN    NaN  Categorical                 NaN  \n",
       "1903      NaN    NaN  Categorical  To regroup or drop  \n",
       "1954      NaN    NaN  Categorical                 NaN  \n",
       "65        NaN    NaN  Categorical                 NaN  \n",
       "93        NaN    NaN  Categorical                 NaN  "
      ]
     },
     "execution_count": 763,
     "metadata": {},
     "output_type": "execute_result"
    }
   ],
   "source": [
    "# Multi value features \n",
    "\n",
    "categorical_features = np.intersect1d(azdias_info[azdias_info.Type=='Categorical'].Attribute.values, azdias.columns.values)\n",
    "azdias_info[azdias_info.Attribute.isin(categorical_features)]"
   ]
  },
  {
   "cell_type": "code",
   "execution_count": 764,
   "metadata": {},
   "outputs": [],
   "source": [
    "# We drop LP_FAMILIE_GROB and one-hot encode the other categorical feats\n",
    "azdias = azdias.drop('LP_FAMILIE_GROB', axis=1)"
   ]
  },
  {
   "cell_type": "code",
   "execution_count": 765,
   "metadata": {},
   "outputs": [],
   "source": [
    "# One hot encoding\n",
    "one_hot_encode_cols = np.intersect1d(azdias_info[azdias_info.Type=='Categorical'].Attribute.values, azdias.columns.values)\n",
    "azdias = pd.get_dummies(azdias, columns=one_hot_encode_cols)"
   ]
  },
  {
   "cell_type": "code",
   "execution_count": 766,
   "metadata": {},
   "outputs": [
    {
     "data": {
      "text/plain": [
       "(737288, 389)"
      ]
     },
     "execution_count": 766,
     "metadata": {},
     "output_type": "execute_result"
    }
   ],
   "source": [
    "azdias.shape"
   ]
  },
  {
   "cell_type": "markdown",
   "metadata": {},
   "source": [
    "### Engineer Mixed-Type Features\n",
    "There are two of features that we marked as \"mixed\" in the azdias_info dataframe that require special treatment in order to be included in the analysis. \n",
    "- \"PRAEGENDE_JUGENDJAHRE\" combines information on three dimensions: generation by decade, movement (mainstream vs. avantgarde), and nation (east vs. west). While there aren't enough levels to disentangle east from west, you should create two new variables to capture the other two dimensions: an interval-type variable for decade, and a binary variable for movement.\n",
    "- \"CAMEO_INTL_2015\" combines information on two axes: wealth and life stage. Break up the two-digit codes by their 'tens'-place and 'ones'-place digits into two new ordinal variables (which, for the purposes of this project, is equivalent to just treating them as their raw numeric values).\n"
   ]
  },
  {
   "cell_type": "code",
   "execution_count": 704,
   "metadata": {},
   "outputs": [
    {
     "data": {
      "text/plain": [
       "21187"
      ]
     },
     "execution_count": 704,
     "metadata": {},
     "output_type": "execute_result"
    }
   ],
   "source": [
    "# Investigate \"PRAEGENDE_JUGENDJAHRE\" and engineer two new variables.\n",
    "#azdias['PRAEGENDE_JUGENDJAHRE'].value_counts()\n",
    "\n",
    "azdias['PRAEGENDE_JUGENDJAHRE'].isnull().sum()"
   ]
  },
  {
   "cell_type": "markdown",
   "metadata": {},
   "source": [
    "PRAEGENDE_JUGENDJAHRE\n",
    "Dominating movement of person's youth (avantgarde vs. mainstream; east vs. west)\n",
    "- -1: unknown\n",
    "-  0: unknown\n",
    "-  1: 40s - war years (Mainstream, E+W)\n",
    "-  2: 40s - reconstruction years (Avantgarde, E+W)\n",
    "-  3: 50s - economic miracle (Mainstream, E+W)\n",
    "-  4: 50s - milk bar / Individualisation (Avantgarde, E+W)\n",
    "-  5: 60s - economic miracle (Mainstream, E+W)\n",
    "-  6: 60s - generation 68 / student protestors (Avantgarde, W)\n",
    "-  7: 60s - opponents to the building of the Wall (Avantgarde, E)\n",
    "-  8: 70s - family orientation (Mainstream, E+W)\n",
    "-  9: 70s - peace movement (Avantgarde, E+W)\n",
    "- 10: 80s - Generation Golf (Mainstream, W)\n",
    "- 11: 80s - ecological awareness (Avantgarde, W)\n",
    "- 12: 80s - FDJ / communist party youth organisation (Mainstream, E)\n",
    "- 13: 80s - Swords into ploughshares (Avantgarde, E)\n",
    "- 14: 90s - digital media kids (Mainstream, E+W)\n",
    "- 15: 90s - ecological awareness (Avantgarde, E+W)"
   ]
  },
  {
   "cell_type": "code",
   "execution_count": 767,
   "metadata": {},
   "outputs": [],
   "source": [
    "# Mainstream feature\n",
    "mainstream_dict = {1.0:1, 2.0:2, 3.0:1, 4.0:2, 5.0:1, 6.0:2, 7.0:2, 8.0:1, 9.0:2, 10.0:1, 11.0:2, 12.0:1, 13.0:2, 14.0:1, 15.0:2}\n",
    "azdias['MAINSTREAM'] = np.nan\n",
    "azdias['MAINSTREAM'] = azdias['PRAEGENDE_JUGENDJAHRE'].map(mainstream_dict)\n",
    "generation_dict = {1.0:1, 2.0:1, 3.0:2, 4.0:2, 5.0:3, 6.0:3, 7.0:3, 8.0:4, 9.0:4, 10.0:5, 11.0:5, 12.0:5, 13.0:5, 14.0:6, 15.0:6}\n",
    "azdias['GENERATION'] = np.nan\n",
    "azdias['GENERATION'] = azdias['PRAEGENDE_JUGENDJAHRE'].map(generation_dict)  "
   ]
  },
  {
   "cell_type": "code",
   "execution_count": 768,
   "metadata": {},
   "outputs": [],
   "source": [
    "# Wealth Feature\n",
    "azdias['WEALTH'] = azdias['CAMEO_INTL_2015'].apply(lambda x: np.floor_divide(float(x), 10) if float(x) else np.nan)\n",
    "azdias['FAMILY'] = azdias['CAMEO_INTL_2015'].apply(lambda x: np.mod(float(x), 10) if float(x) else np.nan) "
   ]
  },
  {
   "cell_type": "code",
   "execution_count": 769,
   "metadata": {},
   "outputs": [],
   "source": [
    "azdias.drop(['PRAEGENDE_JUGENDJAHRE', 'CAMEO_INTL_2015'],axis=1, inplace=True)"
   ]
  },
  {
   "cell_type": "code",
   "execution_count": 770,
   "metadata": {},
   "outputs": [],
   "source": [
    "azdias.to_feather('azdias_re-encodeds.feather')"
   ]
  },
  {
   "cell_type": "markdown",
   "metadata": {},
   "source": [
    "## Feature Transformation\n",
    "\n",
    "### Apply Feature Scaling\n",
    "\n",
    "Before we apply dimensionality reduction techniques to the data, we need to perform feature scaling so that the principal component vectors are not influenced by the natural differences in scale for features.  In this substep, we will  check the following:\n",
    "\n",
    "- Before applying the scaler to the data, we need to make sure that we've cleaned the DataFrame of the remaining missing values. This could be as simple as just removing all data points with missing data, thereby losing a significative percentage of the data, or applying an [Imputer](http://scikit-learn.org/stable/modules/generated/sklearn.preprocessing.Imputer.html) to replace all missing values. \n",
    "- We will separate categorical variables from ordinal and numeric ones, as we will use two different strategies for imputing. Then we intersect with the columns that have null values and finally we add the new engineered Mixed-Type Features\n",
    "- When imputing, the biggest concern is introducing bias into the data, therefore it's advisable to use different strategies depending on the type of the data. We will use most frequent values for binary variable, median for ordinal ones, and categorical variables have been already handled by creating dummy columns. Finally for numeric columns, if they are skewed we will apply a logarithmic tranform, then impute the median.\n",
    "\n"
   ]
  },
  {
   "cell_type": "code",
   "execution_count": 774,
   "metadata": {},
   "outputs": [
    {
     "data": {
      "text/plain": [
       "ANZ_HAUSHALTE_AKTIV              5650\n",
       "ANZ_HH_TITEL                     3325\n",
       "ANZ_PERSONEN                    30383\n",
       "ARBEIT                           3889\n",
       "BALLRAUM                          475\n",
       "CJT_KATALOGNUTZER                4382\n",
       "CJT_TYP_1                        4382\n",
       "CJT_TYP_2                        4382\n",
       "CJT_TYP_3                        4382\n",
       "CJT_TYP_4                        4382\n",
       "CJT_TYP_5                        4382\n",
       "CJT_TYP_6                        4382\n",
       "D19_BANKEN_ONLINE_QUOTE_12     164072\n",
       "D19_GESAMT_ONLINE_QUOTE_12     164072\n",
       "D19_TELKO_ONLINE_QUOTE_12      164072\n",
       "D19_VERSAND_ONLINE_QUOTE_12    164072\n",
       "D19_VERSI_ONLINE_QUOTE_12      164072\n",
       "EWDICHTE                          475\n",
       "FIRMENDICHTE                        5\n",
       "HH_DELTA_FLAG                   30383\n",
       "INNENSTADT                        475\n",
       "KBA05_AUTOQUOT                      5\n",
       "KBA05_HERSTTEMP                  3743\n",
       "KKK                             41019\n",
       "KOMBIALTER                      18109\n",
       "KONSUMNAEHE                        47\n",
       "KONSUMZELLE                         5\n",
       "LP_STATUS_FEIN                   4382\n",
       "LP_STATUS_GROB                   4382\n",
       "ONLINE_AFFINITAET                4382\n",
       "ORTSGR_KLS9                      3808\n",
       "PLZ8_ANTG1                       3522\n",
       "PLZ8_ANTG2                       3522\n",
       "PLZ8_ANTG3                       3522\n",
       "PLZ8_ANTG4                       3522\n",
       "PLZ8_BAUMAX                      3522\n",
       "PLZ8_GBZ                         3522\n",
       "PLZ8_HHZ                         3522\n",
       "RELAT_AB                         3889\n",
       "RT_KEIN_ANREIZ                   4382\n",
       "RT_SCHNAEPPCHEN                  4382\n",
       "RT_UEBERGROESSE                  5089\n",
       "STRUKTURTYP                      3808\n",
       "UMFELD_ALT                       3170\n",
       "UMFELD_JUNG                      3170\n",
       "VERS_TYP                        34054\n",
       "VHN                              7182\n",
       "VK_DISTANZ                       2177\n",
       "VK_ZG11                          2177\n",
       "W_KEIT_KIND_HH                  54345\n",
       "MAINSTREAM                      21187\n",
       "GENERATION                      21187\n",
       "WEALTH                           3340\n",
       "FAMILY                           3340\n",
       "dtype: int64"
      ]
     },
     "execution_count": 774,
     "metadata": {},
     "output_type": "execute_result"
    }
   ],
   "source": [
    "azdias.isnull().sum()[azdias.isnull().sum().values > 0]"
   ]
  },
  {
   "cell_type": "markdown",
   "metadata": {},
   "source": [
    "We have a problem with the D19_ that have a very high number of null values. \n",
    "Imputing with a median would introduce an unacceptable bias as the second most frequent value is usually in the few thousands.\n",
    "Therefor we will:\n",
    "- impute a zero in the D19_.._QUOTE12 variables (equivalent to \"no Online-transactions within the last 12 months\")\n"
   ]
  },
  {
   "cell_type": "code",
   "execution_count": 775,
   "metadata": {},
   "outputs": [],
   "source": [
    "d19_impute_zero = ['D19_BANKEN_ONLINE_QUOTE_12', 'D19_GESAMT_ONLINE_QUOTE_12', 'D19_TELKO_ONLINE_QUOTE_12', 'D19_VERSAND_ONLINE_QUOTE_12', 'D19_VERSI_ONLINE_QUOTE_12']"
   ]
  },
  {
   "cell_type": "code",
   "execution_count": 844,
   "metadata": {},
   "outputs": [
    {
     "data": {
      "text/plain": [
       "54"
      ]
     },
     "execution_count": 844,
     "metadata": {},
     "output_type": "execute_result"
    }
   ],
   "source": [
    "# Now for the other columns we need to know which are numerical, ordinal, categorical. \n",
    "#And we shoudn't forget the last 4 column we added\n",
    "columns_with_nulls = azdias.columns[azdias.isnull().any()]\n",
    "# The columns we added manually are the last 4\n",
    "columns_with_nulls.size"
   ]
  },
  {
   "cell_type": "code",
   "execution_count": 845,
   "metadata": {},
   "outputs": [],
   "source": [
    "cols_to_impute = np.setdiff1d(columns_with_nulls, d19_impute_zero)"
   ]
  },
  {
   "cell_type": "code",
   "execution_count": 846,
   "metadata": {},
   "outputs": [],
   "source": [
    "numeric2impute = azdias_info[(azdias_info.Attribute.isin(cols_to_impute)) & (azdias_info.Type =='Numeric')].Attribute.values\n",
    "categorical2impute = azdias_info[(azdias_info.Attribute.isin(cols_to_impute)) & (azdias_info.Type =='Categorical')].Attribute.values\n",
    "ordinal2impute = azdias_info[(azdias_info.Attribute.isin(cols_to_impute)) & (azdias_info.Type =='Ordinal')].Attribute.values\n",
    "binary2impute = azdias_info[(azdias_info.Attribute.isin(cols_to_impute)) & (azdias_info.Type =='Binary')].Attribute.values\n",
    "binary2impute = np.append(binary2impute, 'MAINSTREAM')\n",
    "ordinal2impute = np.concatenate((ordinal2impute, ['GENERATION', 'WEALTH', 'FAMILY']))\n"
   ]
  },
  {
   "cell_type": "code",
   "execution_count": 849,
   "metadata": {},
   "outputs": [
    {
     "data": {
      "text/plain": [
       "54"
      ]
     },
     "execution_count": 849,
     "metadata": {},
     "output_type": "execute_result"
    }
   ],
   "source": [
    "# Quickly check if we have everything\n",
    "numeric2impute.size + binary2impute.size + ordinal2impute.size + len(d19_impute_zero)"
   ]
  },
  {
   "cell_type": "code",
   "execution_count": 872,
   "metadata": {},
   "outputs": [
    {
     "data": {
      "text/plain": [
       "(8.720806697343331, 8.720806697343331, 1.9684237732931673)"
      ]
     },
     "execution_count": 872,
     "metadata": {},
     "output_type": "execute_result"
    }
   ],
   "source": [
    "azdias.ANZ_HAUSHALTE_AKTIV.skew(), azdias.ANZ_HAUSHALTE_AKTIV.skew(), azdias.ANZ_PERSONEN.skew()"
   ]
  },
  {
   "cell_type": "code",
   "execution_count": 868,
   "metadata": {},
   "outputs": [
    {
     "data": {
      "image/png": "[encoded data removed]",
      "text/plain": [
       "<Figure size 1440x360 with 3 Axes>"
      ]
     },
     "metadata": {},
     "output_type": "display_data"
    }
   ],
   "source": [
    "#We now have a look at the distributions of numerical variables\n",
    "plt.figure(figsize=(20,5))\n",
    "plt.subplot(1, 3, 1)\n",
    "plt.hist(azdias.ANZ_HAUSHALTE_AKTIV.dropna());\n",
    "plt.subplot(1, 3, 2)\n",
    "plt.hist(azdias.azdias.ANZ_HAUSHALTE_AKTIV.dropna());\n",
    "plt.subplot(1, 3, 3)\n",
    "plt.hist(azdias.ANZ_PERSONEN.dropna());\n",
    "plt.show()"
   ]
  },
  {
   "cell_type": "code",
   "execution_count": 855,
   "metadata": {},
   "outputs": [],
   "source": [
    "# Now we can impute\n",
    "from sklearn.impute import SimpleImputer\n",
    "\n",
    "imputer_median = SimpleImputer(strategy='median')\n",
    "#ze[ordinal_with_nulls] = imputer_1.fit_transform(ze[ordinal_with_nulls])\n",
    "imputer_numeric = SimpleImputer(strategy='mean')\n",
    "#ze[numeric_with_nulls] = imputer_2.fit_transform(ze[numeric_with_nulls])\n",
    "imputer_binary = SimpleImputer(strategy='most_frequent')\n",
    "#ze[categorical_with_nulls] = imputer_3.fit_transform(ze[categorical_with_nulls])\n",
    "# We treat mixed ones same as ordinal\n",
    "imputer_4 = SimpleImputer(strategy='mean')\n",
    "#ze[mixed_with_nulls] = imputer_4.fit_transform(ze[mixed_with_nulls])"
   ]
  },
  {
   "cell_type": "markdown",
   "metadata": {},
   "source": [
    "## Part 1: Customer Segmentation Report\n",
    "\n",
    "The main bulk of your analysis will come in this part of the project. Here, you should use unsupervised learning techniques to describe the relationship between the demographics of the company's existing customers and the general population of Germany. By the end of this part, you should be able to describe parts of the general population that are more likely to be part of the mail-order company's main customer base, and which parts of the general population are less so."
   ]
  },
  {
   "cell_type": "code",
   "execution_count": null,
   "metadata": {},
   "outputs": [],
   "source": []
  },
  {
   "cell_type": "code",
   "execution_count": 56,
   "metadata": {},
   "outputs": [],
   "source": []
  },
  {
   "cell_type": "markdown",
   "metadata": {},
   "source": [
    "## Part 2: Supervised Learning Model\n",
    "\n",
    "Now that you've found which parts of the population are more likely to be customers of the mail-order company, it's time to build a prediction model. Each of the rows in the \"MAILOUT\" data files represents an individual that was targeted for a mailout campaign. Ideally, we should be able to use the demographic information from each individual to decide whether or not it will be worth it to include that person in the campaign.\n",
    "\n",
    "The \"MAILOUT\" data has been split into two approximately equal parts, each with almost 43 000 data rows. In this part, you can verify your model with the \"TRAIN\" partition, which i\n",
    "ncludes a column, \"RESPONSE\", that states whether or not a person became a customer of the company following the campaign. In the next part, you'll need to create predictions on the \"TEST\" partition, where the \"RESPONSE\" column has been withheld."
   ]
  },
  {
   "cell_type": "code",
   "execution_count": null,
   "metadata": {},
   "outputs": [],
   "source": [
    "mailout_train = pd.read_csv('../../data/Term2/capstone/arvato_data/Udacity_MAILOUT_052018_TRAIN.csv', sep=';')"
   ]
  },
  {
   "cell_type": "code",
   "execution_count": null,
   "metadata": {},
   "outputs": [],
   "source": []
  },
  {
   "cell_type": "markdown",
   "metadata": {},
   "source": [
    "## Part 3: Kaggle Competition\n",
    "\n",
    "Now that you've created a model to predict which individuals are most likely to respond to a mailout campaign, it's time to test that model in competition through Kaggle. If you click on the link [here](http://www.kaggle.com/t/21e6d45d4c574c7fa2d868f0e8c83140), you'll be taken to the competition page where, if you have a Kaggle account, you can enter. If you're one of the top performers, you may have the chance to be contacted by a hiring manager from Arvato or Bertelsmann for an interview!\n",
    "\n",
    "Your entry to the competition should be a CSV file with two columns. The first column should be a copy of \"LNR\", which acts as an ID number for each individual in the \"TEST\" partition. The second column, \"RESPONSE\", should be some measure of how likely each individual became a customer – this might not be a straightforward probability. As you should have found in Part 2, there is a large output class imbalance, where most individuals did not respond to the mailout. Thus, predicting individual classes and using accuracy does not seem to be an appropriate performance evaluation method. Instead, the competition will be using AUC to evaluate performance. The exact values of the \"RESPONSE\" column do not matter as much: only that the higher values try to capture as many of the actual customers as possible, early in the ROC curve sweep."
   ]
  },
  {
   "cell_type": "code",
   "execution_count": null,
   "metadata": {},
   "outputs": [],
   "source": [
    "mailout_test = pd.read_csv('../../data/Term2/capstone/arvato_data/Udacity_MAILOUT_052018_TEST.csv', sep=';')"
   ]
  },
  {
   "cell_type": "code",
   "execution_count": null,
   "metadata": {},
   "outputs": [],
   "source": []
  }
 ],
 "metadata": {
  "kernelspec": {
   "display_name": "Python [default]",
   "language": "python",
   "name": "python3"
  },
  "language_info": {
   "codemirror_mode": {
    "name": "ipython",
    "version": 3
   },
   "file_extension": ".py",
   "mimetype": "text/x-python",
   "name": "python",
   "nbconvert_exporter": "python",
   "pygments_lexer": "ipython3",
   "version": "3.6.6"
  }
 },
 "nbformat": 4,
 "nbformat_minor": 2
}
